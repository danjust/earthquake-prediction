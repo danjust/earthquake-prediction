{
 "cells": [
  {
   "cell_type": "code",
   "execution_count": 1,
   "metadata": {},
   "outputs": [],
   "source": [
    "import os\n",
    "import pickle\n",
    "import numpy as np\n",
    "import tensorflow as tf\n",
    "import copy\n",
    "import time\n",
    "from matplotlib import pyplot as plt\n",
    "from joblib import Parallel, delayed\n",
    "import multiprocessing\n",
    "import time\n",
    "\n",
    "from tensorflow.keras.models import Sequential\n",
    "from tensorflow.keras.layers import Dense\n",
    "\n",
    "from sklearn.preprocessing import StandardScaler\n",
    "\n",
    "from evolution import model"
   ]
  },
  {
   "cell_type": "code",
   "execution_count": 2,
   "metadata": {
    "collapsed": true
   },
   "outputs": [],
   "source": [
    "featuremat = np.load('data/training_data/featurematrix_v2.npy')\n",
    "time_to_failure_vec = np.load('data/training_data/time_to_failure.npy')\n",
    "testmat = np.load('data/test_processed/featurematrix_test.npy')"
   ]
  },
  {
   "cell_type": "code",
   "execution_count": 3,
   "metadata": {
    "collapsed": true
   },
   "outputs": [],
   "source": [
    "trainset = np.random.choice(np.arange(len(time_to_failure_vec)),size=int(len(time_to_failure_vec)*.9),replace=False)\n",
    "validationset = list(set(np.arange(len(time_to_failure_vec)))-set(trainset))"
   ]
  },
  {
   "cell_type": "code",
   "execution_count": 4,
   "metadata": {
    "collapsed": true
   },
   "outputs": [],
   "source": [
    "trainmat = featuremat[trainset,:]\n",
    "validationmat = featuremat[validationset,:]\n",
    "\n",
    "time_to_failure_train = time_to_failure_vec[trainset]\n",
    "time_to_failure_validation = time_to_failure_vec[validationset]"
   ]
  },
  {
   "cell_type": "markdown",
   "metadata": {},
   "source": [
    "## Normalise data"
   ]
  },
  {
   "cell_type": "code",
   "execution_count": 5,
   "metadata": {},
   "outputs": [
    {
     "data": {
      "text/plain": [
       "StandardScaler(copy=True, with_mean=True, with_std=True)"
      ]
     },
     "execution_count": 5,
     "metadata": {},
     "output_type": "execute_result"
    }
   ],
   "source": [
    "scaler = StandardScaler()\n",
    "scaler.fit(trainmat)"
   ]
  },
  {
   "cell_type": "code",
   "execution_count": 6,
   "metadata": {
    "collapsed": true
   },
   "outputs": [],
   "source": [
    "trainmat_scale = scaler.transform(trainmat)\n",
    "validationmat_scale = scaler.transform(validationmat)"
   ]
  },
  {
   "cell_type": "markdown",
   "metadata": {},
   "source": [
    "# Evolution"
   ]
  },
  {
   "cell_type": "code",
   "execution_count": 71,
   "metadata": {
    "collapsed": true
   },
   "outputs": [],
   "source": [
    "generations = 500\n",
    "pop_size = 256\n",
    "epochs = 100\n",
    "batch_size = 64\n",
    "num_all_features = featuremat.shape[1]\n",
    "\n",
    "savepath = '/Users/djustus/workspace/earthquake/ckpt/'\n",
    "model_name = 'E3-256_all_features'"
   ]
  },
  {
   "cell_type": "markdown",
   "metadata": {},
   "source": [
    "### Create models with one hidden layer (with 1-64 units) each"
   ]
  },
  {
   "cell_type": "code",
   "execution_count": 72,
   "metadata": {},
   "outputs": [],
   "source": [
    "model_list = []\n",
    "for i in range(pop_size):\n",
    "    model_list.append(model(featureset={np.random.choice(range(num_all_features))},\n",
    "                            layerlist=[np.random.randint(1,64)],\n",
    "                            dropoutlist=[0],\n",
    "                            reg_constant=0.005,\n",
    "                            learning_rate=0.01,\n",
    "                            lr_decay=0.001,\n",
    "                            num_all_features=num_all_features))"
   ]
  },
  {
   "cell_type": "code",
   "execution_count": 73,
   "metadata": {
    "collapsed": true
   },
   "outputs": [],
   "source": [
    "gen = -1"
   ]
  },
  {
   "cell_type": "code",
   "execution_count": 104,
   "metadata": {
    "collapsed": true
   },
   "outputs": [],
   "source": [
    "def train_model(model_list,trainmat,time_to_failure_train,validationmat,time_to_failure_validation,model_ind):\n",
    "    \n",
    "    trainmat_use = trainmat[:,list(model_list[model_ind].featureset)]\n",
    "    validationmat_use = validationmat[:,list(model_list[model_ind].featureset)]\n",
    "\n",
    "    m = model_list[model_ind].build()\n",
    "    \n",
    "    opt = tf.keras.optimizers.Adam(lr=model_list[model_ind].learning_rate,decay=model_list[model_ind].lr_decay)\n",
    "    m.compile(optimizer=opt,\n",
    "              loss='mean_squared_error',\n",
    "              metrics=['mean_absolute_error'])\n",
    "    hist = m.fit(trainmat_use, \n",
    "          time_to_failure_train, \n",
    "          validation_data=(validationmat_use,time_to_failure_validation), \n",
    "          epochs=epochs, \n",
    "          batch_size=batch_size,\n",
    "          verbose=0\n",
    "         )\n",
    "        \n",
    "    loss = hist.history['val_mean_absolute_error'][-1]\n",
    "    return loss"
   ]
  },
  {
   "cell_type": "code",
   "execution_count": 75,
   "metadata": {
    "collapsed": true
   },
   "outputs": [],
   "source": [
    "num_cores = multiprocessing.cpu_count()"
   ]
  },
  {
   "cell_type": "markdown",
   "metadata": {},
   "source": [
    "## Training\n",
    "Train generation 0 completely.  \n",
    "Following generation 1: Train only mutations"
   ]
  },
  {
   "cell_type": "code",
   "execution_count": 110,
   "metadata": {
    "scrolled": true
   },
   "outputs": [
    {
     "ename": "KeyboardInterrupt",
     "evalue": "",
     "output_type": "error",
     "traceback": [
      "\u001b[0;31m---------------------------------------------------------------------------\u001b[0m",
      "\u001b[0;31mKeyboardInterrupt\u001b[0m                         Traceback (most recent call last)",
      "\u001b[0;32m<ipython-input-110-3acf18fbb16b>\u001b[0m in \u001b[0;36m<module>\u001b[0;34m()\u001b[0m\n\u001b[1;32m     23\u001b[0m                                  \u001b[0mtime_to_failure_validation\u001b[0m\u001b[0;34m,\u001b[0m\u001b[0;34m\u001b[0m\u001b[0;34m\u001b[0m\u001b[0m\n\u001b[1;32m     24\u001b[0m                                  model_ind) \n\u001b[0;32m---> 25\u001b[0;31m             \u001b[0;32mfor\u001b[0m \u001b[0mmodel_ind\u001b[0m \u001b[0;32min\u001b[0m \u001b[0mrange\u001b[0m\u001b[0;34m(\u001b[0m\u001b[0mint\u001b[0m\u001b[0;34m(\u001b[0m\u001b[0mpop_size\u001b[0m\u001b[0;34m/\u001b[0m\u001b[0;36m2\u001b[0m\u001b[0;34m)\u001b[0m\u001b[0;34m,\u001b[0m\u001b[0mpop_size\u001b[0m\u001b[0;34m)\u001b[0m\u001b[0;34m\u001b[0m\u001b[0;34m\u001b[0m\u001b[0m\n\u001b[0m\u001b[1;32m     26\u001b[0m     )\n\u001b[1;32m     27\u001b[0m \u001b[0;31m#     loss_generation = [train_model(model_list,trainmat_scale,validationmat_scale,model_ind)\u001b[0m\u001b[0;34m\u001b[0m\u001b[0;34m\u001b[0m\u001b[0;34m\u001b[0m\u001b[0m\n",
      "\u001b[0;32m~/anaconda3/lib/python3.6/site-packages/joblib/parallel.py\u001b[0m in \u001b[0;36m__call__\u001b[0;34m(self, iterable)\u001b[0m\n\u001b[1;32m    932\u001b[0m \u001b[0;34m\u001b[0m\u001b[0m\n\u001b[1;32m    933\u001b[0m             \u001b[0;32mwith\u001b[0m \u001b[0mself\u001b[0m\u001b[0;34m.\u001b[0m\u001b[0m_backend\u001b[0m\u001b[0;34m.\u001b[0m\u001b[0mretrieval_context\u001b[0m\u001b[0;34m(\u001b[0m\u001b[0;34m)\u001b[0m\u001b[0;34m:\u001b[0m\u001b[0;34m\u001b[0m\u001b[0;34m\u001b[0m\u001b[0m\n\u001b[0;32m--> 934\u001b[0;31m                 \u001b[0mself\u001b[0m\u001b[0;34m.\u001b[0m\u001b[0mretrieve\u001b[0m\u001b[0;34m(\u001b[0m\u001b[0;34m)\u001b[0m\u001b[0;34m\u001b[0m\u001b[0;34m\u001b[0m\u001b[0m\n\u001b[0m\u001b[1;32m    935\u001b[0m             \u001b[0;31m# Make sure that we get a last message telling us we are done\u001b[0m\u001b[0;34m\u001b[0m\u001b[0;34m\u001b[0m\u001b[0;34m\u001b[0m\u001b[0m\n\u001b[1;32m    936\u001b[0m             \u001b[0melapsed_time\u001b[0m \u001b[0;34m=\u001b[0m \u001b[0mtime\u001b[0m\u001b[0;34m.\u001b[0m\u001b[0mtime\u001b[0m\u001b[0;34m(\u001b[0m\u001b[0;34m)\u001b[0m \u001b[0;34m-\u001b[0m \u001b[0mself\u001b[0m\u001b[0;34m.\u001b[0m\u001b[0m_start_time\u001b[0m\u001b[0;34m\u001b[0m\u001b[0;34m\u001b[0m\u001b[0m\n",
      "\u001b[0;32m~/anaconda3/lib/python3.6/site-packages/joblib/parallel.py\u001b[0m in \u001b[0;36mretrieve\u001b[0;34m(self)\u001b[0m\n\u001b[1;32m    831\u001b[0m             \u001b[0;32mtry\u001b[0m\u001b[0;34m:\u001b[0m\u001b[0;34m\u001b[0m\u001b[0;34m\u001b[0m\u001b[0m\n\u001b[1;32m    832\u001b[0m                 \u001b[0;32mif\u001b[0m \u001b[0mgetattr\u001b[0m\u001b[0;34m(\u001b[0m\u001b[0mself\u001b[0m\u001b[0;34m.\u001b[0m\u001b[0m_backend\u001b[0m\u001b[0;34m,\u001b[0m \u001b[0;34m'supports_timeout'\u001b[0m\u001b[0;34m,\u001b[0m \u001b[0;32mFalse\u001b[0m\u001b[0;34m)\u001b[0m\u001b[0;34m:\u001b[0m\u001b[0;34m\u001b[0m\u001b[0;34m\u001b[0m\u001b[0m\n\u001b[0;32m--> 833\u001b[0;31m                     \u001b[0mself\u001b[0m\u001b[0;34m.\u001b[0m\u001b[0m_output\u001b[0m\u001b[0;34m.\u001b[0m\u001b[0mextend\u001b[0m\u001b[0;34m(\u001b[0m\u001b[0mjob\u001b[0m\u001b[0;34m.\u001b[0m\u001b[0mget\u001b[0m\u001b[0;34m(\u001b[0m\u001b[0mtimeout\u001b[0m\u001b[0;34m=\u001b[0m\u001b[0mself\u001b[0m\u001b[0;34m.\u001b[0m\u001b[0mtimeout\u001b[0m\u001b[0;34m)\u001b[0m\u001b[0;34m)\u001b[0m\u001b[0;34m\u001b[0m\u001b[0;34m\u001b[0m\u001b[0m\n\u001b[0m\u001b[1;32m    834\u001b[0m                 \u001b[0;32melse\u001b[0m\u001b[0;34m:\u001b[0m\u001b[0;34m\u001b[0m\u001b[0;34m\u001b[0m\u001b[0m\n\u001b[1;32m    835\u001b[0m                     \u001b[0mself\u001b[0m\u001b[0;34m.\u001b[0m\u001b[0m_output\u001b[0m\u001b[0;34m.\u001b[0m\u001b[0mextend\u001b[0m\u001b[0;34m(\u001b[0m\u001b[0mjob\u001b[0m\u001b[0;34m.\u001b[0m\u001b[0mget\u001b[0m\u001b[0;34m(\u001b[0m\u001b[0;34m)\u001b[0m\u001b[0;34m)\u001b[0m\u001b[0;34m\u001b[0m\u001b[0;34m\u001b[0m\u001b[0m\n",
      "\u001b[0;32m~/anaconda3/lib/python3.6/site-packages/joblib/_parallel_backends.py\u001b[0m in \u001b[0;36mwrap_future_result\u001b[0;34m(future, timeout)\u001b[0m\n\u001b[1;32m    519\u001b[0m         AsyncResults.get from multiprocessing.\"\"\"\n\u001b[1;32m    520\u001b[0m         \u001b[0;32mtry\u001b[0m\u001b[0;34m:\u001b[0m\u001b[0;34m\u001b[0m\u001b[0;34m\u001b[0m\u001b[0m\n\u001b[0;32m--> 521\u001b[0;31m             \u001b[0;32mreturn\u001b[0m \u001b[0mfuture\u001b[0m\u001b[0;34m.\u001b[0m\u001b[0mresult\u001b[0m\u001b[0;34m(\u001b[0m\u001b[0mtimeout\u001b[0m\u001b[0;34m=\u001b[0m\u001b[0mtimeout\u001b[0m\u001b[0;34m)\u001b[0m\u001b[0;34m\u001b[0m\u001b[0;34m\u001b[0m\u001b[0m\n\u001b[0m\u001b[1;32m    522\u001b[0m         \u001b[0;32mexcept\u001b[0m \u001b[0mLokyTimeoutError\u001b[0m\u001b[0;34m:\u001b[0m\u001b[0;34m\u001b[0m\u001b[0;34m\u001b[0m\u001b[0m\n\u001b[1;32m    523\u001b[0m             \u001b[0;32mraise\u001b[0m \u001b[0mTimeoutError\u001b[0m\u001b[0;34m(\u001b[0m\u001b[0;34m)\u001b[0m\u001b[0;34m\u001b[0m\u001b[0;34m\u001b[0m\u001b[0m\n",
      "\u001b[0;32m~/anaconda3/lib/python3.6/concurrent/futures/_base.py\u001b[0m in \u001b[0;36mresult\u001b[0;34m(self, timeout)\u001b[0m\n\u001b[1;32m    425\u001b[0m                 \u001b[0;32mreturn\u001b[0m \u001b[0mself\u001b[0m\u001b[0;34m.\u001b[0m\u001b[0m__get_result\u001b[0m\u001b[0;34m(\u001b[0m\u001b[0;34m)\u001b[0m\u001b[0;34m\u001b[0m\u001b[0;34m\u001b[0m\u001b[0m\n\u001b[1;32m    426\u001b[0m \u001b[0;34m\u001b[0m\u001b[0m\n\u001b[0;32m--> 427\u001b[0;31m             \u001b[0mself\u001b[0m\u001b[0;34m.\u001b[0m\u001b[0m_condition\u001b[0m\u001b[0;34m.\u001b[0m\u001b[0mwait\u001b[0m\u001b[0;34m(\u001b[0m\u001b[0mtimeout\u001b[0m\u001b[0;34m)\u001b[0m\u001b[0;34m\u001b[0m\u001b[0;34m\u001b[0m\u001b[0m\n\u001b[0m\u001b[1;32m    428\u001b[0m \u001b[0;34m\u001b[0m\u001b[0m\n\u001b[1;32m    429\u001b[0m             \u001b[0;32mif\u001b[0m \u001b[0mself\u001b[0m\u001b[0;34m.\u001b[0m\u001b[0m_state\u001b[0m \u001b[0;32min\u001b[0m \u001b[0;34m[\u001b[0m\u001b[0mCANCELLED\u001b[0m\u001b[0;34m,\u001b[0m \u001b[0mCANCELLED_AND_NOTIFIED\u001b[0m\u001b[0;34m]\u001b[0m\u001b[0;34m:\u001b[0m\u001b[0;34m\u001b[0m\u001b[0;34m\u001b[0m\u001b[0m\n",
      "\u001b[0;32m~/anaconda3/lib/python3.6/threading.py\u001b[0m in \u001b[0;36mwait\u001b[0;34m(self, timeout)\u001b[0m\n\u001b[1;32m    293\u001b[0m         \u001b[0;32mtry\u001b[0m\u001b[0;34m:\u001b[0m    \u001b[0;31m# restore state no matter what (e.g., KeyboardInterrupt)\u001b[0m\u001b[0;34m\u001b[0m\u001b[0;34m\u001b[0m\u001b[0m\n\u001b[1;32m    294\u001b[0m             \u001b[0;32mif\u001b[0m \u001b[0mtimeout\u001b[0m \u001b[0;32mis\u001b[0m \u001b[0;32mNone\u001b[0m\u001b[0;34m:\u001b[0m\u001b[0;34m\u001b[0m\u001b[0;34m\u001b[0m\u001b[0m\n\u001b[0;32m--> 295\u001b[0;31m                 \u001b[0mwaiter\u001b[0m\u001b[0;34m.\u001b[0m\u001b[0macquire\u001b[0m\u001b[0;34m(\u001b[0m\u001b[0;34m)\u001b[0m\u001b[0;34m\u001b[0m\u001b[0;34m\u001b[0m\u001b[0m\n\u001b[0m\u001b[1;32m    296\u001b[0m                 \u001b[0mgotit\u001b[0m \u001b[0;34m=\u001b[0m \u001b[0;32mTrue\u001b[0m\u001b[0;34m\u001b[0m\u001b[0;34m\u001b[0m\u001b[0m\n\u001b[1;32m    297\u001b[0m             \u001b[0;32melse\u001b[0m\u001b[0;34m:\u001b[0m\u001b[0;34m\u001b[0m\u001b[0;34m\u001b[0m\u001b[0m\n",
      "\u001b[0;31mKeyboardInterrupt\u001b[0m: "
     ]
    }
   ],
   "source": [
    "loss = np.zeros([generations,pop_size])\n",
    "born = np.zeros(pop_size)\n",
    "id_hist = [str(n) for n in range(pop_size)]\n",
    "\n",
    "models_employed = []\n",
    "while gen<generations:\n",
    "    gen+=1\n",
    "    num_features_gen = []\n",
    "    num_layers_gen = []\n",
    "    t = time.time()\n",
    "    \n",
    "    models_employed.append(model_list) \n",
    "    \n",
    "    for model_ind in range(pop_size):\n",
    "        num_features_gen.append(model_list[model_ind].num_features)\n",
    "        num_layers_gen.append(model_list[model_ind].num_layers)\n",
    "        \n",
    "    loss_generation = Parallel(n_jobs=num_cores)(\n",
    "            delayed(train_model)(model_list,\n",
    "                                 trainmat_scale,\n",
    "                                 time_to_failure_train,\n",
    "                                 validationmat_scale,\n",
    "                                 time_to_failure_validation,\n",
    "                                 model_ind) \n",
    "            for model_ind in range(int(pop_size/2),pop_size)\n",
    "    )\n",
    "#     loss_generation = [train_model(model_list,trainmat_scale,validationmat_scale,model_ind) \n",
    "#                        for model_ind in range(pop_size)]\n",
    "    loss_generation = [1e9 if np.isnan(val) else val for val in loss_generation]\n",
    "    \n",
    "    if gen==0:\n",
    "        loss_survivor = Parallel(n_jobs=num_cores)(\n",
    "            delayed(train_model)(model_list,\n",
    "                                 trainmat_scale,\n",
    "                                 time_to_failure_train,\n",
    "                                 validationmat_scale,\n",
    "                                 time_to_failure_validation,\n",
    "                                 model_ind) \n",
    "            for model_ind in range(0,int(pop_size/2))\n",
    "        )\n",
    "        loss_survivor = [1e9 if np.isnan(val) else val for val in loss_survivor]\n",
    "            \n",
    "    loss[gen,0:int(pop_size/2)] = loss_survivor\n",
    "    loss[gen,int(pop_size/2):pop_size] = loss_generation\n",
    "    \n",
    "    tf.keras.backend.clear_session()    \n",
    "        \n",
    "    survive = np.argsort(born)[int(pop_size/2):]\n",
    "    parent = np.argsort(loss[gen,:])[0:int(pop_size/2)]\n",
    "    best = parent[0]\n",
    "    \n",
    "    print('Generation %d finished, %.3f sec,\\n'\n",
    "          'average number of features %.1f, average number of layers %.1f, average loss %.3f, \\n'          \n",
    "          'best features %s, best number of layers %.1f, best loss %.3f'\n",
    "          %(gen, time.time()-t, \n",
    "            np.mean(num_features_gen), np.mean(num_layers_gen), np.mean(loss[gen,:]), \n",
    "            model_list[best].featureset, model_list[best].num_layers, loss[gen,best]))\n",
    "    \n",
    "    model_list2 = []\n",
    "    born2 = []\n",
    "    id_hist2 = []\n",
    "    loss_survivor = []\n",
    "    for model_ind in survive:\n",
    "        model_list2.append(model_list[model_ind])\n",
    "        loss_survivor.append(loss[gen,model_ind])\n",
    "        born2.append(born[model_ind])\n",
    "        id_hist2.append(id_hist[model_ind])\n",
    "    for model_ind in parent:\n",
    "        mutation = copy.deepcopy(model_list[model_ind])\n",
    "        mutation.mutate()\n",
    "        model_list2.append(mutation)\n",
    "        born2.append(time.time())\n",
    "        id_hist2.append(id_hist[model_ind]+','+str(model_ind))\n",
    "        \n",
    "    born = born2\n",
    "    model_list = model_list2\n",
    "    id_hist = id_hist2\n",
    "    with open(os.path.join(savepath,'model_list_%s_gen%d.pkl' %(model_name,gen)),'wb') as fn:\n",
    "        pickle.dump(model_list,fn)"
   ]
  },
  {
   "cell_type": "code",
   "execution_count": 111,
   "metadata": {},
   "outputs": [
    {
     "name": "stdout",
     "output_type": "stream",
     "text": [
      "{10, 26, 14}\n",
      "{10, 12, 31}\n",
      "{11, 10, 26}\n",
      "{10, 26, 12}\n",
      "{3, 10, 26, 12}\n",
      "{26, 10, 35, 12}\n",
      "{10, 26, 12}\n",
      "{10, 26, 12}\n",
      "{35, 10, 26, 12}\n",
      "{25, 10, 12}\n",
      "{10, 3, 36}\n",
      "{10, 12}\n",
      "{32, 10, 12, 26, 29}\n",
      "{35, 10, 26, 12}\n",
      "{10, 12}\n",
      "{10, 11, 31}\n",
      "{33, 4, 10, 12, 20}\n",
      "{10, 12}\n",
      "{26, 10, 35, 12}\n",
      "{35, 10, 26, 12}\n",
      "{8, 10, 11}\n",
      "{25, 10, 12}\n",
      "{11, 2, 10}\n",
      "{26, 10, 35, 12}\n",
      "{10, 12}\n",
      "{10, 26, 11}\n",
      "{10, 12, 13}\n",
      "{32, 10, 12, 26, 29}\n",
      "{10, 12}\n",
      "{2, 10, 11}\n",
      "{10, 12}\n",
      "{10, 11, 31, 23}\n",
      "{10, 26, 36}\n",
      "{10, 12}\n",
      "{32, 10}\n",
      "{10, 26, 11}\n",
      "{32, 10, 12}\n",
      "{10}\n",
      "{32, 10}\n",
      "{10, 11}\n",
      "{32, 10, 30}\n",
      "{32, 10, 30}\n",
      "{10, 3, 36}\n",
      "{10}\n",
      "{32, 10, 30}\n",
      "{32, 10, 30}\n",
      "{32, 10, 23}\n",
      "{32, 10}\n",
      "{9, 10, 30}\n",
      "{32, 1, 10, 15}\n",
      "{10}\n",
      "{32, 10, 3}\n",
      "{10, 12}\n",
      "{32, 10}\n",
      "{10, 30}\n",
      "{30}\n",
      "{32, 10, 23}\n",
      "{10, 26}\n",
      "{10, 12}\n",
      "{32, 10}\n",
      "{32, 10, 30}\n",
      "{10}\n",
      "{32, 10, 30}\n",
      "{27, 10, 18}\n",
      "{12}\n",
      "{10, 30}\n",
      "{9, 10, 19}\n",
      "{32, 1, 37, 10, 30}\n",
      "{32, 10}\n",
      "{10, 30}\n",
      "{3}\n",
      "{10, 30}\n",
      "{10, 35, 30}\n",
      "{32, 10}\n",
      "{8, 10}\n",
      "{32, 1, 10}\n",
      "{32, 10, 30}\n",
      "{10}\n",
      "{10}\n",
      "{24, 10}\n",
      "{32, 10}\n",
      "{32}\n",
      "{32, 10, 30}\n",
      "{32, 10, 30}\n",
      "{10, 3}\n",
      "{10, 26}\n",
      "{10, 2, 6}\n",
      "{26, 10, 35, 12}\n",
      "{10, 18}\n",
      "{10, 30}\n",
      "{32, 10}\n",
      "{32, 10}\n",
      "{32, 10, 30}\n",
      "{32, 10, 30}\n",
      "{10}\n",
      "{10}\n",
      "{16, 33, 10, 35}\n",
      "{33, 10}\n",
      "{25, 10}\n",
      "{33, 10}\n",
      "{10, 30}\n",
      "{19, 10, 2}\n",
      "{10, 11}\n",
      "{10, 2}\n",
      "{10, 11}\n",
      "{0, 10, 30}\n",
      "{32, 30}\n",
      "{32, 10, 31}\n",
      "{24}\n",
      "{24, 10}\n",
      "{10, 19, 30, 23}\n",
      "{10, 2}\n",
      "{32, 10}\n",
      "{32, 30}\n",
      "{10, 26}\n",
      "{10}\n",
      "{10, 2}\n",
      "{10, 26, 12}\n",
      "{26, 10, 19}\n",
      "{10, 19, 30}\n",
      "{10}\n",
      "{32, 10, 30}\n",
      "{16, 33, 10, 35}\n",
      "{10, 26}\n",
      "{10, 37}\n",
      "{9, 10, 34}\n",
      "{10, 29}\n",
      "{9, 10, 34}\n",
      "{10, 26, 12, 14}\n",
      "{10, 12, 31}\n",
      "{26, 10, 3, 12}\n",
      "{33, 4, 10, 12, 20}\n",
      "{10, 26, 12}\n",
      "{11, 10, 26}\n",
      "{10, 26, 12}\n",
      "{26, 12}\n",
      "{10, 26, 12}\n",
      "{26, 10, 35, 12}\n",
      "{10, 26, 12}\n",
      "{35, 26, 10, 12}\n",
      "{10, 12}\n",
      "{32, 10, 12, 26, 29}\n",
      "{10, 3, 36}\n",
      "{32, 10, 12, 26, 29}\n",
      "{35, 26, 10, 12}\n",
      "{10, 3, 36}\n",
      "{25, 10, 12}\n",
      "{35, 10, 26, 12}\n",
      "{10, 12}\n",
      "{32, 10, 12, 26, 29}\n",
      "{26, 10, 35, 12}\n",
      "{32, 10, 12}\n",
      "{33, 10, 12}\n",
      "{10, 12}\n",
      "{10, 11, 21, 31}\n",
      "{35, 26, 10, 12}\n",
      "{26, 10, 35, 12}\n",
      "{8, 11}\n",
      "{2, 10}\n",
      "{26, 10, 35, 12}\n",
      "{10, 12, 13}\n",
      "{25, 10, 12, 17}\n",
      "{10, 12}\n",
      "{10, 12}\n",
      "{26, 11}\n",
      "{8, 10, 11}\n",
      "{10, 26, 36}\n",
      "{10, 3, 36}\n",
      "{10, 11, 31, 23}\n",
      "{10, 2, 6}\n",
      "{10, 26, 36}\n",
      "{26, 10, 35, 12}\n",
      "{10, 12}\n",
      "{10, 26, 12}\n",
      "{10, 12}\n",
      "{10}\n",
      "{10, 26, 11}\n",
      "{32, 10, 23}\n",
      "{10, 37}\n",
      "{9, 10, 30}\n",
      "{0, 10, 30}\n",
      "{32, 10, 12}\n",
      "{32, 1, 10, 30}\n",
      "{10}\n",
      "{32, 10, 31}\n",
      "{10}\n",
      "{10, 11, 28}\n",
      "{35, 10, 12, 14, 26}\n",
      "{32, 24, 10, 30}\n",
      "{32, 1, 10, 15}\n",
      "{26, 10, 11}\n",
      "{32, 10, 3}\n",
      "{10, 2}\n",
      "{11, 2, 10}\n",
      "{32, 10, 30}\n",
      "{32, 1, 10}\n",
      "{10, 28}\n",
      "{32, 10}\n",
      "{10, 11}\n",
      "{10, 12, 20}\n",
      "{32, 10, 28, 23}\n",
      "{32, 10}\n",
      "{32, 1, 10}\n",
      "{10, 12, 21}\n",
      "{10, 30}\n",
      "{32, 10, 30}\n",
      "{32}\n",
      "{10, 12}\n",
      "{32, 10}\n",
      "{10, 12, 13}\n",
      "{32, 10}\n",
      "{24, 10}\n",
      "{32, 10}\n",
      "{32, 10}\n",
      "{10, 27}\n",
      "{10, 18}\n",
      "{10, 35, 30}\n",
      "{9, 10, 34}\n",
      "{10, 12}\n",
      "{10, 30}\n",
      "{11, 10, 26}\n",
      "{9, 10, 19}\n",
      "{10, 3}\n",
      "{10, 12, 31}\n",
      "{10, 30}\n",
      "{10, 11, 23, 31}\n",
      "{32, 10, 6}\n",
      "{32, 1, 10}\n",
      "{32, 10, 30}\n",
      "{10}\n",
      "{18, 10, 27}\n",
      "{10}\n",
      "{24, 10}\n",
      "{32, 10}\n",
      "{32, 10}\n",
      "{10}\n",
      "{32, 10}\n",
      "{10, 3}\n",
      "{10}\n",
      "{32}\n",
      "{32, 8, 10}\n",
      "{32, 10, 30}\n",
      "{32, 10, 30}\n",
      "{10, 2}\n",
      "{10, 30}\n",
      "{10, 34}\n",
      "{24, 10}\n",
      "{33, 10}\n",
      "{10, 30}\n",
      "{2, 10, 19, 5}\n",
      "{33, 10}\n",
      "{10, 30}\n",
      "{10, 26}\n",
      "{10}\n",
      "{10, 11}\n",
      "{32, 10, 35, 30}\n"
     ]
    }
   ],
   "source": [
    "for i in range(pop_size):\n",
    "    print(model_list[i].featureset)"
   ]
  },
  {
   "cell_type": "code",
   "execution_count": null,
   "metadata": {
    "collapsed": true
   },
   "outputs": [],
   "source": [
    "np.argmin(loss[gen-1])"
   ]
  },
  {
   "cell_type": "code",
   "execution_count": null,
   "metadata": {
    "collapsed": true
   },
   "outputs": [],
   "source": [
    "best_model=model_list[0]"
   ]
  },
  {
   "cell_type": "code",
   "execution_count": null,
   "metadata": {
    "collapsed": true
   },
   "outputs": [],
   "source": [
    "best_model.layerlist"
   ]
  },
  {
   "cell_type": "code",
   "execution_count": null,
   "metadata": {
    "collapsed": true
   },
   "outputs": [],
   "source": [
    "m = best_model.build()"
   ]
  },
  {
   "cell_type": "code",
   "execution_count": null,
   "metadata": {
    "collapsed": true
   },
   "outputs": [],
   "source": [
    "trainmat_use = trainmat[:,list(best_model.featureset)]\n",
    "validationmat_use = validationmat[:,list(best_model.featureset)]\n",
    "\n",
    "opt = tf.keras.optimizers.Adam(lr=0.01,decay=.1)\n",
    "m.compile(optimizer=opt,\n",
    "          loss='mean_squared_error',\n",
    "          metrics=['mean_absolute_error'])\n",
    "hist = m.fit(trainmat_use,\n",
    "             time_to_failure_train, \n",
    "             validation_data=(validationmat_use,time_to_failure_validation), \n",
    "             epochs=1000, \n",
    "             batch_size=batch_size\n",
    "            )"
   ]
  },
  {
   "cell_type": "code",
   "execution_count": null,
   "metadata": {
    "collapsed": true
   },
   "outputs": [],
   "source": [
    "best_model.learning_rate"
   ]
  },
  {
   "cell_type": "code",
   "execution_count": 80,
   "metadata": {},
   "outputs": [],
   "source": [
    "featurecount = np.zeros(num_all_features)"
   ]
  },
  {
   "cell_type": "code",
   "execution_count": 107,
   "metadata": {
    "collapsed": true
   },
   "outputs": [],
   "source": [
    "for i in range(256):\n",
    "    for f in model_list[i].featureset:\n",
    "        featurecount[f] = featurecount[f]+1"
   ]
  },
  {
   "cell_type": "code",
   "execution_count": 108,
   "metadata": {},
   "outputs": [
    {
     "data": {
      "image/png": "[encoded data removed]",
      "text/plain": [
       "<matplotlib.figure.Figure at 0x12b3816d8>"
      ]
     },
     "metadata": {},
     "output_type": "display_data"
    }
   ],
   "source": [
    "plt.bar(np.arange(38),featurecount)\n",
    "plt.show()"
   ]
  },
  {
   "cell_type": "code",
   "execution_count": null,
   "metadata": {
    "collapsed": true
   },
   "outputs": [],
   "source": []
  }
 ],
 "metadata": {
  "kernelspec": {
   "display_name": "Python 3",
   "language": "python",
   "name": "python3"
  },
  "language_info": {
   "codemirror_mode": {
    "name": "ipython",
    "version": 3
   },
   "file_extension": ".py",
   "mimetype": "text/x-python",
   "name": "python",
   "nbconvert_exporter": "python",
   "pygments_lexer": "ipython3",
   "version": "3.6.8"
  }
 },
 "nbformat": 4,
 "nbformat_minor": 2
}

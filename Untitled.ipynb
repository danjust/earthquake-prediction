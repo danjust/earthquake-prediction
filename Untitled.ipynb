{
 "cells": [
  {
   "cell_type": "code",
   "execution_count": 180,
   "metadata": {},
   "outputs": [],
   "source": [
    "import numpy as np\n",
    "import copy\n",
    "import matplotlib.pyplot as plt\n",
    "\n",
    "from skopt import gp_minimize\n",
    "\n",
    "%matplotlib inline"
   ]
  },
  {
   "cell_type": "code",
   "execution_count": 201,
   "metadata": {},
   "outputs": [],
   "source": [
    "def f(x):\n",
    "    x=x[0]\n",
    "    return (-(5-x[0])**2-(2-x[1])**2-(-3-x[2])**2-(4-x[3])**2)#-(x[4])**2)"
   ]
  },
  {
   "cell_type": "code",
   "execution_count": 157,
   "metadata": {},
   "outputs": [
    {
     "data": {
      "text/plain": [
       "2"
      ]
     },
     "execution_count": 157,
     "metadata": {},
     "output_type": "execute_result"
    }
   ],
   "source": [
    "f([4,3,-3,4])"
   ]
  },
  {
   "cell_type": "code",
   "execution_count": 105,
   "metadata": {},
   "outputs": [],
   "source": [
    "def mutate(x):\n",
    "    ind_mutate = np.random.randint(5)\n",
    "    x[ind_mutate] = x[ind_mutate]+np.random.choice([1,-1])\n",
    "    return x"
   ]
  },
  {
   "cell_type": "code",
   "execution_count": 106,
   "metadata": {},
   "outputs": [],
   "source": [
    "def generation(x_list):\n",
    "    val = [f(x) for x in x_list]\n",
    "    return val"
   ]
  },
  {
   "cell_type": "code",
   "execution_count": 122,
   "metadata": {
    "collapsed": true
   },
   "outputs": [],
   "source": [
    "x_list = [np.random.randint(-10,11,5) for i in range(50)]"
   ]
  },
  {
   "cell_type": "code",
   "execution_count": 123,
   "metadata": {},
   "outputs": [
    {
     "name": "stdout",
     "output_type": "stream",
     "text": [
      "average: -249.440, best: -38\n",
      "average: -154.060, best: -38\n",
      "average: -99.860, best: -38\n",
      "average: -71.340, best: -35\n",
      "average: -55.100, best: -34\n",
      "average: -45.740, best: -29\n",
      "average: -40.260, best: -22\n",
      "average: -35.300, best: -22\n",
      "average: -32.940, best: -19\n",
      "average: -28.860, best: -18\n",
      "average: -25.660, best: -16\n",
      "average: -22.540, best: -15\n",
      "average: -19.620, best: -11\n",
      "average: -17.220, best: -10\n",
      "average: -14.700, best: -9\n",
      "average: -12.700, best: -7\n",
      "average: -10.620, best: -6\n",
      "average: -9.100, best: -4\n",
      "average: -7.300, best: -2\n",
      "average: -5.620, best: -2\n",
      "average: -4.300, best: -1\n",
      "average: -3.580, best: 0\n",
      "average: -2.900, best: 0\n",
      "average: -2.420, best: 0\n",
      "average: -2.060, best: 0\n",
      "average: -1.780, best: 0\n",
      "average: -1.540, best: 0\n",
      "average: -1.420, best: 0\n",
      "average: -1.140, best: 0\n",
      "average: -1.260, best: 0\n",
      "average: -1.060, best: 0\n",
      "average: -0.980, best: 0\n",
      "average: -1.020, best: 0\n",
      "average: -0.900, best: 0\n",
      "average: -0.900, best: 0\n",
      "average: -0.820, best: 0\n",
      "average: -0.860, best: 0\n",
      "average: -0.820, best: 0\n",
      "average: -0.820, best: 0\n",
      "average: -0.740, best: 0\n",
      "average: -0.700, best: 0\n",
      "average: -0.740, best: 0\n",
      "average: -0.700, best: 0\n",
      "average: -0.740, best: 0\n",
      "average: -0.700, best: 0\n",
      "average: -0.660, best: 0\n",
      "average: -0.620, best: 0\n",
      "average: -0.620, best: 0\n",
      "average: -0.580, best: 0\n",
      "average: -0.580, best: 0\n",
      "average: -0.580, best: 0\n",
      "average: -0.580, best: 0\n",
      "average: -0.620, best: 0\n",
      "average: -0.580, best: 0\n",
      "average: -0.620, best: 0\n",
      "average: -0.580, best: 0\n",
      "average: -0.580, best: 0\n",
      "average: -0.580, best: 0\n",
      "average: -0.580, best: 0\n",
      "average: -0.540, best: 0\n",
      "average: -0.540, best: 0\n",
      "average: -0.540, best: 0\n",
      "average: -0.540, best: 0\n",
      "average: -0.540, best: 0\n",
      "average: -0.540, best: 0\n",
      "average: -0.540, best: 0\n",
      "average: -0.540, best: 0\n",
      "average: -0.540, best: 0\n",
      "average: -0.540, best: 0\n",
      "average: -0.540, best: 0\n",
      "average: -0.540, best: 0\n",
      "average: -0.500, best: 0\n",
      "average: -0.500, best: 0\n",
      "average: -0.500, best: 0\n",
      "average: -0.500, best: 0\n",
      "average: -0.500, best: 0\n",
      "average: -0.500, best: 0\n",
      "average: -0.500, best: 0\n",
      "average: -0.500, best: 0\n",
      "average: -0.500, best: 0\n",
      "average: -0.500, best: 0\n",
      "average: -0.500, best: 0\n",
      "average: -0.500, best: 0\n",
      "average: -0.500, best: 0\n",
      "average: -0.500, best: 0\n",
      "average: -0.500, best: 0\n",
      "average: -0.500, best: 0\n",
      "average: -0.500, best: 0\n",
      "average: -0.500, best: 0\n",
      "average: -0.500, best: 0\n",
      "average: -0.500, best: 0\n",
      "average: -0.500, best: 0\n",
      "average: -0.500, best: 0\n",
      "average: -0.500, best: 0\n",
      "average: -0.500, best: 0\n",
      "average: -0.500, best: 0\n",
      "average: -0.500, best: 0\n",
      "average: -0.500, best: 0\n",
      "average: -0.500, best: 0\n",
      "average: -0.500, best: 0\n"
     ]
    }
   ],
   "source": [
    "for i in range(100):\n",
    "    vals = generation(x_list)\n",
    "    print('average: %.3f, best: %d' %(np.mean(vals),np.max(vals)))\n",
    "    live = np.argsort(vals)[25:50]\n",
    "    x_list2 = []\n",
    "    for ind in live:\n",
    "        x_list2.append(x_list[ind])\n",
    "        x_m = copy.deepcopy(x_list[ind])\n",
    "        x_list2.append(mutate(x_m))\n",
    "    x_list = x_list2"
   ]
  },
  {
   "cell_type": "code",
   "execution_count": 161,
   "metadata": {},
   "outputs": [
    {
     "name": "stderr",
     "output_type": "stream",
     "text": [
      "/Users/djustus/anaconda3/lib/python3.6/site-packages/skopt/optimizer/optimizer.py:399: UserWarning: The objective has been evaluated at this point before.\n",
      "  warnings.warn(\"The objective has been evaluated \"\n",
      "/Users/djustus/anaconda3/lib/python3.6/site-packages/skopt/optimizer/optimizer.py:399: UserWarning: The objective has been evaluated at this point before.\n",
      "  warnings.warn(\"The objective has been evaluated \"\n",
      "/Users/djustus/anaconda3/lib/python3.6/site-packages/skopt/optimizer/optimizer.py:399: UserWarning: The objective has been evaluated at this point before.\n",
      "  warnings.warn(\"The objective has been evaluated \"\n",
      "/Users/djustus/anaconda3/lib/python3.6/site-packages/skopt/optimizer/optimizer.py:399: UserWarning: The objective has been evaluated at this point before.\n",
      "  warnings.warn(\"The objective has been evaluated \"\n",
      "/Users/djustus/anaconda3/lib/python3.6/site-packages/skopt/optimizer/optimizer.py:399: UserWarning: The objective has been evaluated at this point before.\n",
      "  warnings.warn(\"The objective has been evaluated \"\n",
      "/Users/djustus/anaconda3/lib/python3.6/site-packages/skopt/optimizer/optimizer.py:399: UserWarning: The objective has been evaluated at this point before.\n",
      "  warnings.warn(\"The objective has been evaluated \"\n",
      "/Users/djustus/anaconda3/lib/python3.6/site-packages/skopt/optimizer/optimizer.py:399: UserWarning: The objective has been evaluated at this point before.\n",
      "  warnings.warn(\"The objective has been evaluated \"\n",
      "/Users/djustus/anaconda3/lib/python3.6/site-packages/skopt/optimizer/optimizer.py:399: UserWarning: The objective has been evaluated at this point before.\n",
      "  warnings.warn(\"The objective has been evaluated \"\n",
      "/Users/djustus/anaconda3/lib/python3.6/site-packages/skopt/optimizer/optimizer.py:399: UserWarning: The objective has been evaluated at this point before.\n",
      "  warnings.warn(\"The objective has been evaluated \"\n",
      "/Users/djustus/anaconda3/lib/python3.6/site-packages/skopt/optimizer/optimizer.py:399: UserWarning: The objective has been evaluated at this point before.\n",
      "  warnings.warn(\"The objective has been evaluated \"\n",
      "/Users/djustus/anaconda3/lib/python3.6/site-packages/skopt/optimizer/optimizer.py:399: UserWarning: The objective has been evaluated at this point before.\n",
      "  warnings.warn(\"The objective has been evaluated \"\n",
      "/Users/djustus/anaconda3/lib/python3.6/site-packages/skopt/optimizer/optimizer.py:399: UserWarning: The objective has been evaluated at this point before.\n",
      "  warnings.warn(\"The objective has been evaluated \"\n",
      "/Users/djustus/anaconda3/lib/python3.6/site-packages/skopt/optimizer/optimizer.py:399: UserWarning: The objective has been evaluated at this point before.\n",
      "  warnings.warn(\"The objective has been evaluated \"\n",
      "/Users/djustus/anaconda3/lib/python3.6/site-packages/skopt/optimizer/optimizer.py:399: UserWarning: The objective has been evaluated at this point before.\n",
      "  warnings.warn(\"The objective has been evaluated \"\n",
      "/Users/djustus/anaconda3/lib/python3.6/site-packages/skopt/optimizer/optimizer.py:399: UserWarning: The objective has been evaluated at this point before.\n",
      "  warnings.warn(\"The objective has been evaluated \"\n",
      "/Users/djustus/anaconda3/lib/python3.6/site-packages/skopt/optimizer/optimizer.py:399: UserWarning: The objective has been evaluated at this point before.\n",
      "  warnings.warn(\"The objective has been evaluated \"\n",
      "/Users/djustus/anaconda3/lib/python3.6/site-packages/skopt/optimizer/optimizer.py:399: UserWarning: The objective has been evaluated at this point before.\n",
      "  warnings.warn(\"The objective has been evaluated \"\n",
      "/Users/djustus/anaconda3/lib/python3.6/site-packages/skopt/optimizer/optimizer.py:399: UserWarning: The objective has been evaluated at this point before.\n",
      "  warnings.warn(\"The objective has been evaluated \"\n",
      "/Users/djustus/anaconda3/lib/python3.6/site-packages/skopt/optimizer/optimizer.py:399: UserWarning: The objective has been evaluated at this point before.\n",
      "  warnings.warn(\"The objective has been evaluated \"\n",
      "/Users/djustus/anaconda3/lib/python3.6/site-packages/skopt/optimizer/optimizer.py:399: UserWarning: The objective has been evaluated at this point before.\n",
      "  warnings.warn(\"The objective has been evaluated \"\n",
      "/Users/djustus/anaconda3/lib/python3.6/site-packages/skopt/optimizer/optimizer.py:399: UserWarning: The objective has been evaluated at this point before.\n",
      "  warnings.warn(\"The objective has been evaluated \"\n",
      "/Users/djustus/anaconda3/lib/python3.6/site-packages/skopt/optimizer/optimizer.py:399: UserWarning: The objective has been evaluated at this point before.\n",
      "  warnings.warn(\"The objective has been evaluated \"\n",
      "/Users/djustus/anaconda3/lib/python3.6/site-packages/skopt/optimizer/optimizer.py:399: UserWarning: The objective has been evaluated at this point before.\n",
      "  warnings.warn(\"The objective has been evaluated \"\n",
      "/Users/djustus/anaconda3/lib/python3.6/site-packages/skopt/optimizer/optimizer.py:399: UserWarning: The objective has been evaluated at this point before.\n",
      "  warnings.warn(\"The objective has been evaluated \"\n",
      "/Users/djustus/anaconda3/lib/python3.6/site-packages/skopt/optimizer/optimizer.py:399: UserWarning: The objective has been evaluated at this point before.\n",
      "  warnings.warn(\"The objective has been evaluated \"\n",
      "/Users/djustus/anaconda3/lib/python3.6/site-packages/skopt/optimizer/optimizer.py:399: UserWarning: The objective has been evaluated at this point before.\n",
      "  warnings.warn(\"The objective has been evaluated \"\n",
      "/Users/djustus/anaconda3/lib/python3.6/site-packages/skopt/optimizer/optimizer.py:399: UserWarning: The objective has been evaluated at this point before.\n",
      "  warnings.warn(\"The objective has been evaluated \"\n",
      "/Users/djustus/anaconda3/lib/python3.6/site-packages/skopt/optimizer/optimizer.py:399: UserWarning: The objective has been evaluated at this point before.\n",
      "  warnings.warn(\"The objective has been evaluated \"\n",
      "/Users/djustus/anaconda3/lib/python3.6/site-packages/skopt/optimizer/optimizer.py:399: UserWarning: The objective has been evaluated at this point before.\n",
      "  warnings.warn(\"The objective has been evaluated \"\n",
      "/Users/djustus/anaconda3/lib/python3.6/site-packages/skopt/optimizer/optimizer.py:399: UserWarning: The objective has been evaluated at this point before.\n",
      "  warnings.warn(\"The objective has been evaluated \"\n",
      "/Users/djustus/anaconda3/lib/python3.6/site-packages/skopt/optimizer/optimizer.py:399: UserWarning: The objective has been evaluated at this point before.\n",
      "  warnings.warn(\"The objective has been evaluated \"\n",
      "/Users/djustus/anaconda3/lib/python3.6/site-packages/skopt/optimizer/optimizer.py:399: UserWarning: The objective has been evaluated at this point before.\n",
      "  warnings.warn(\"The objective has been evaluated \"\n",
      "/Users/djustus/anaconda3/lib/python3.6/site-packages/skopt/optimizer/optimizer.py:399: UserWarning: The objective has been evaluated at this point before.\n",
      "  warnings.warn(\"The objective has been evaluated \"\n",
      "/Users/djustus/anaconda3/lib/python3.6/site-packages/skopt/optimizer/optimizer.py:399: UserWarning: The objective has been evaluated at this point before.\n",
      "  warnings.warn(\"The objective has been evaluated \"\n",
      "/Users/djustus/anaconda3/lib/python3.6/site-packages/skopt/optimizer/optimizer.py:399: UserWarning: The objective has been evaluated at this point before.\n",
      "  warnings.warn(\"The objective has been evaluated \"\n"
     ]
    }
   ],
   "source": [
    "res = gp_minimize(f,                  # the function to minimize\n",
    "                  [(-10,10),(-10,10),(-10,10),(-10,10)],      # the bounds on each dimension of x\n",
    "                  acq_func=\"EI\",      # the acquisition function\n",
    "                  n_calls=100,\n",
    "                  n_random_starts=1,\n",
    "                  noise=0)  "
   ]
  },
  {
   "cell_type": "code",
   "execution_count": 162,
   "metadata": {},
   "outputs": [
    {
     "data": {
      "text/plain": [
       "          fun: 0\n",
       "    func_vals: array([341, 294, 402, 341, 341, 334, 193, 190, 190, 189, 189, 170, 154,\n",
       "       138, 126, 106, 102,  98,  85,  74,  58,  50,  50,  50,  49,  36,\n",
       "        41,  38,  40,  25,  26,  16,  20,  17,   9,   6,   6,   5,   6,\n",
       "         1,   1,   0,   2,   1,   6,  34,   0,   1,  90,   6,   0,  30,\n",
       "         0, 206,   0,   1,   3,   0, 174,   0,   0,   0,  17,  10,   0,\n",
       "         0,   0,   0,   1,  19, 534,   1,  10,   1,   0,   1,   1,   2,\n",
       "       358,  18, 227,   0,   0,   0,   1,   0,   0,  13,   0,   0,   0,\n",
       "         0,   0,   0,   1,   0,   0,  14,  49,   0])\n",
       "       models: [GaussianProcessRegressor(alpha=1e-10, copy_X_train=True,\n",
       "             kernel=1**2 * Matern(length_scale=[1, 1, 1, 1], nu=2.5),\n",
       "             n_restarts_optimizer=2, noise=0, normalize_y=True,\n",
       "             optimizer='fmin_l_bfgs_b', random_state=1761554415), GaussianProcessRegressor(alpha=1e-10, copy_X_train=True,\n",
       "             kernel=1**2 * Matern(length_scale=[1, 1, 1, 1], nu=2.5),\n",
       "             n_restarts_optimizer=2, noise=0, normalize_y=True,\n",
       "             optimizer='fmin_l_bfgs_b', random_state=1761554415), GaussianProcessRegressor(alpha=1e-10, copy_X_train=True,\n",
       "             kernel=1**2 * Matern(length_scale=[1, 1, 1, 1], nu=2.5),\n",
       "             n_restarts_optimizer=2, noise=0, normalize_y=True,\n",
       "             optimizer='fmin_l_bfgs_b', random_state=1761554415), GaussianProcessRegressor(alpha=1e-10, copy_X_train=True,\n",
       "             kernel=1**2 * Matern(length_scale=[1, 1, 1, 1], nu=2.5),\n",
       "             n_restarts_optimizer=2, noise=0, normalize_y=True,\n",
       "             optimizer='fmin_l_bfgs_b', random_state=1761554415), GaussianProcessRegressor(alpha=1e-10, copy_X_train=True,\n",
       "             kernel=1**2 * Matern(length_scale=[1, 1, 1, 1], nu=2.5),\n",
       "             n_restarts_optimizer=2, noise=0, normalize_y=True,\n",
       "             optimizer='fmin_l_bfgs_b', random_state=1761554415), GaussianProcessRegressor(alpha=1e-10, copy_X_train=True,\n",
       "             kernel=1**2 * Matern(length_scale=[1, 1, 1, 1], nu=2.5),\n",
       "             n_restarts_optimizer=2, noise=0, normalize_y=True,\n",
       "             optimizer='fmin_l_bfgs_b', random_state=1761554415), GaussianProcessRegressor(alpha=1e-10, copy_X_train=True,\n",
       "             kernel=1**2 * Matern(length_scale=[1, 1, 1, 1], nu=2.5),\n",
       "             n_restarts_optimizer=2, noise=0, normalize_y=True,\n",
       "             optimizer='fmin_l_bfgs_b', random_state=1761554415), GaussianProcessRegressor(alpha=1e-10, copy_X_train=True,\n",
       "             kernel=1**2 * Matern(length_scale=[1, 1, 1, 1], nu=2.5),\n",
       "             n_restarts_optimizer=2, noise=0, normalize_y=True,\n",
       "             optimizer='fmin_l_bfgs_b', random_state=1761554415), GaussianProcessRegressor(alpha=1e-10, copy_X_train=True,\n",
       "             kernel=1**2 * Matern(length_scale=[1, 1, 1, 1], nu=2.5),\n",
       "             n_restarts_optimizer=2, noise=0, normalize_y=True,\n",
       "             optimizer='fmin_l_bfgs_b', random_state=1761554415), GaussianProcessRegressor(alpha=1e-10, copy_X_train=True,\n",
       "             kernel=1**2 * Matern(length_scale=[1, 1, 1, 1], nu=2.5),\n",
       "             n_restarts_optimizer=2, noise=0, normalize_y=True,\n",
       "             optimizer='fmin_l_bfgs_b', random_state=1761554415), GaussianProcessRegressor(alpha=1e-10, copy_X_train=True,\n",
       "             kernel=1**2 * Matern(length_scale=[1, 1, 1, 1], nu=2.5),\n",
       "             n_restarts_optimizer=2, noise=0, normalize_y=True,\n",
       "             optimizer='fmin_l_bfgs_b', random_state=1761554415), GaussianProcessRegressor(alpha=1e-10, copy_X_train=True,\n",
       "             kernel=1**2 * Matern(length_scale=[1, 1, 1, 1], nu=2.5),\n",
       "             n_restarts_optimizer=2, noise=0, normalize_y=True,\n",
       "             optimizer='fmin_l_bfgs_b', random_state=1761554415), GaussianProcessRegressor(alpha=1e-10, copy_X_train=True,\n",
       "             kernel=1**2 * Matern(length_scale=[1, 1, 1, 1], nu=2.5),\n",
       "             n_restarts_optimizer=2, noise=0, normalize_y=True,\n",
       "             optimizer='fmin_l_bfgs_b', random_state=1761554415), GaussianProcessRegressor(alpha=1e-10, copy_X_train=True,\n",
       "             kernel=1**2 * Matern(length_scale=[1, 1, 1, 1], nu=2.5),\n",
       "             n_restarts_optimizer=2, noise=0, normalize_y=True,\n",
       "             optimizer='fmin_l_bfgs_b', random_state=1761554415), GaussianProcessRegressor(alpha=1e-10, copy_X_train=True,\n",
       "             kernel=1**2 * Matern(length_scale=[1, 1, 1, 1], nu=2.5),\n",
       "             n_restarts_optimizer=2, noise=0, normalize_y=True,\n",
       "             optimizer='fmin_l_bfgs_b', random_state=1761554415), GaussianProcessRegressor(alpha=1e-10, copy_X_train=True,\n",
       "             kernel=1**2 * Matern(length_scale=[1, 1, 1, 1], nu=2.5),\n",
       "             n_restarts_optimizer=2, noise=0, normalize_y=True,\n",
       "             optimizer='fmin_l_bfgs_b', random_state=1761554415), GaussianProcessRegressor(alpha=1e-10, copy_X_train=True,\n",
       "             kernel=1**2 * Matern(length_scale=[1, 1, 1, 1], nu=2.5),\n",
       "             n_restarts_optimizer=2, noise=0, normalize_y=True,\n",
       "             optimizer='fmin_l_bfgs_b', random_state=1761554415), GaussianProcessRegressor(alpha=1e-10, copy_X_train=True,\n",
       "             kernel=1**2 * Matern(length_scale=[1, 1, 1, 1], nu=2.5),\n",
       "             n_restarts_optimizer=2, noise=0, normalize_y=True,\n",
       "             optimizer='fmin_l_bfgs_b', random_state=1761554415), GaussianProcessRegressor(alpha=1e-10, copy_X_train=True,\n",
       "             kernel=1**2 * Matern(length_scale=[1, 1, 1, 1], nu=2.5),\n",
       "             n_restarts_optimizer=2, noise=0, normalize_y=True,\n",
       "             optimizer='fmin_l_bfgs_b', random_state=1761554415), GaussianProcessRegressor(alpha=1e-10, copy_X_train=True,\n",
       "             kernel=1**2 * Matern(length_scale=[1, 1, 1, 1], nu=2.5),\n",
       "             n_restarts_optimizer=2, noise=0, normalize_y=True,\n",
       "             optimizer='fmin_l_bfgs_b', random_state=1761554415), GaussianProcessRegressor(alpha=1e-10, copy_X_train=True,\n",
       "             kernel=1**2 * Matern(length_scale=[1, 1, 1, 1], nu=2.5),\n",
       "             n_restarts_optimizer=2, noise=0, normalize_y=True,\n",
       "             optimizer='fmin_l_bfgs_b', random_state=1761554415), GaussianProcessRegressor(alpha=1e-10, copy_X_train=True,\n",
       "             kernel=1**2 * Matern(length_scale=[1, 1, 1, 1], nu=2.5),\n",
       "             n_restarts_optimizer=2, noise=0, normalize_y=True,\n",
       "             optimizer='fmin_l_bfgs_b', random_state=1761554415), GaussianProcessRegressor(alpha=1e-10, copy_X_train=True,\n",
       "             kernel=1**2 * Matern(length_scale=[1, 1, 1, 1], nu=2.5),\n",
       "             n_restarts_optimizer=2, noise=0, normalize_y=True,\n",
       "             optimizer='fmin_l_bfgs_b', random_state=1761554415), GaussianProcessRegressor(alpha=1e-10, copy_X_train=True,\n",
       "             kernel=1**2 * Matern(length_scale=[1, 1, 1, 1], nu=2.5),\n",
       "             n_restarts_optimizer=2, noise=0, normalize_y=True,\n",
       "             optimizer='fmin_l_bfgs_b', random_state=1761554415), GaussianProcessRegressor(alpha=1e-10, copy_X_train=True,\n",
       "             kernel=1**2 * Matern(length_scale=[1, 1, 1, 1], nu=2.5),\n",
       "             n_restarts_optimizer=2, noise=0, normalize_y=True,\n",
       "             optimizer='fmin_l_bfgs_b', random_state=1761554415), GaussianProcessRegressor(alpha=1e-10, copy_X_train=True,\n",
       "             kernel=1**2 * Matern(length_scale=[1, 1, 1, 1], nu=2.5),\n",
       "             n_restarts_optimizer=2, noise=0, normalize_y=True,\n",
       "             optimizer='fmin_l_bfgs_b', random_state=1761554415), GaussianProcessRegressor(alpha=1e-10, copy_X_train=True,\n",
       "             kernel=1**2 * Matern(length_scale=[1, 1, 1, 1], nu=2.5),\n",
       "             n_restarts_optimizer=2, noise=0, normalize_y=True,\n",
       "             optimizer='fmin_l_bfgs_b', random_state=1761554415), GaussianProcessRegressor(alpha=1e-10, copy_X_train=True,\n",
       "             kernel=1**2 * Matern(length_scale=[1, 1, 1, 1], nu=2.5),\n",
       "             n_restarts_optimizer=2, noise=0, normalize_y=True,\n",
       "             optimizer='fmin_l_bfgs_b', random_state=1761554415), GaussianProcessRegressor(alpha=1e-10, copy_X_train=True,\n",
       "             kernel=1**2 * Matern(length_scale=[1, 1, 1, 1], nu=2.5),\n",
       "             n_restarts_optimizer=2, noise=0, normalize_y=True,\n",
       "             optimizer='fmin_l_bfgs_b', random_state=1761554415), GaussianProcessRegressor(alpha=1e-10, copy_X_train=True,\n",
       "             kernel=1**2 * Matern(length_scale=[1, 1, 1, 1], nu=2.5),\n",
       "             n_restarts_optimizer=2, noise=0, normalize_y=True,\n",
       "             optimizer='fmin_l_bfgs_b', random_state=1761554415), GaussianProcessRegressor(alpha=1e-10, copy_X_train=True,\n",
       "             kernel=1**2 * Matern(length_scale=[1, 1, 1, 1], nu=2.5),\n",
       "             n_restarts_optimizer=2, noise=0, normalize_y=True,\n",
       "             optimizer='fmin_l_bfgs_b', random_state=1761554415), GaussianProcessRegressor(alpha=1e-10, copy_X_train=True,\n",
       "             kernel=1**2 * Matern(length_scale=[1, 1, 1, 1], nu=2.5),\n",
       "             n_restarts_optimizer=2, noise=0, normalize_y=True,\n",
       "             optimizer='fmin_l_bfgs_b', random_state=1761554415), GaussianProcessRegressor(alpha=1e-10, copy_X_train=True,\n",
       "             kernel=1**2 * Matern(length_scale=[1, 1, 1, 1], nu=2.5),\n",
       "             n_restarts_optimizer=2, noise=0, normalize_y=True,\n",
       "             optimizer='fmin_l_bfgs_b', random_state=1761554415), GaussianProcessRegressor(alpha=1e-10, copy_X_train=True,\n",
       "             kernel=1**2 * Matern(length_scale=[1, 1, 1, 1], nu=2.5),\n",
       "             n_restarts_optimizer=2, noise=0, normalize_y=True,\n",
       "             optimizer='fmin_l_bfgs_b', random_state=1761554415), GaussianProcessRegressor(alpha=1e-10, copy_X_train=True,\n",
       "             kernel=1**2 * Matern(length_scale=[1, 1, 1, 1], nu=2.5),\n",
       "             n_restarts_optimizer=2, noise=0, normalize_y=True,\n",
       "             optimizer='fmin_l_bfgs_b', random_state=1761554415), GaussianProcessRegressor(alpha=1e-10, copy_X_train=True,\n",
       "             kernel=1**2 * Matern(length_scale=[1, 1, 1, 1], nu=2.5),\n",
       "             n_restarts_optimizer=2, noise=0, normalize_y=True,\n",
       "             optimizer='fmin_l_bfgs_b', random_state=1761554415), GaussianProcessRegressor(alpha=1e-10, copy_X_train=True,\n",
       "             kernel=1**2 * Matern(length_scale=[1, 1, 1, 1], nu=2.5),\n",
       "             n_restarts_optimizer=2, noise=0, normalize_y=True,\n",
       "             optimizer='fmin_l_bfgs_b', random_state=1761554415), GaussianProcessRegressor(alpha=1e-10, copy_X_train=True,\n",
       "             kernel=1**2 * Matern(length_scale=[1, 1, 1, 1], nu=2.5),\n",
       "             n_restarts_optimizer=2, noise=0, normalize_y=True,\n",
       "             optimizer='fmin_l_bfgs_b', random_state=1761554415), GaussianProcessRegressor(alpha=1e-10, copy_X_train=True,\n",
       "             kernel=1**2 * Matern(length_scale=[1, 1, 1, 1], nu=2.5),\n",
       "             n_restarts_optimizer=2, noise=0, normalize_y=True,\n",
       "             optimizer='fmin_l_bfgs_b', random_state=1761554415), GaussianProcessRegressor(alpha=1e-10, copy_X_train=True,\n",
       "             kernel=1**2 * Matern(length_scale=[1, 1, 1, 1], nu=2.5),\n",
       "             n_restarts_optimizer=2, noise=0, normalize_y=True,\n",
       "             optimizer='fmin_l_bfgs_b', random_state=1761554415), GaussianProcessRegressor(alpha=1e-10, copy_X_train=True,\n",
       "             kernel=1**2 * Matern(length_scale=[1, 1, 1, 1], nu=2.5),\n",
       "             n_restarts_optimizer=2, noise=0, normalize_y=True,\n",
       "             optimizer='fmin_l_bfgs_b', random_state=1761554415), GaussianProcessRegressor(alpha=1e-10, copy_X_train=True,\n",
       "             kernel=1**2 * Matern(length_scale=[1, 1, 1, 1], nu=2.5),\n",
       "             n_restarts_optimizer=2, noise=0, normalize_y=True,\n",
       "             optimizer='fmin_l_bfgs_b', random_state=1761554415), GaussianProcessRegressor(alpha=1e-10, copy_X_train=True,\n",
       "             kernel=1**2 * Matern(length_scale=[1, 1, 1, 1], nu=2.5),\n",
       "             n_restarts_optimizer=2, noise=0, normalize_y=True,\n",
       "             optimizer='fmin_l_bfgs_b', random_state=1761554415), GaussianProcessRegressor(alpha=1e-10, copy_X_train=True,\n",
       "             kernel=1**2 * Matern(length_scale=[1, 1, 1, 1], nu=2.5),\n",
       "             n_restarts_optimizer=2, noise=0, normalize_y=True,\n",
       "             optimizer='fmin_l_bfgs_b', random_state=1761554415), GaussianProcessRegressor(alpha=1e-10, copy_X_train=True,\n",
       "             kernel=1**2 * Matern(length_scale=[1, 1, 1, 1], nu=2.5),\n",
       "             n_restarts_optimizer=2, noise=0, normalize_y=True,\n",
       "             optimizer='fmin_l_bfgs_b', random_state=1761554415), GaussianProcessRegressor(alpha=1e-10, copy_X_train=True,\n",
       "             kernel=1**2 * Matern(length_scale=[1, 1, 1, 1], nu=2.5),\n",
       "             n_restarts_optimizer=2, noise=0, normalize_y=True,\n",
       "             optimizer='fmin_l_bfgs_b', random_state=1761554415), GaussianProcessRegressor(alpha=1e-10, copy_X_train=True,\n",
       "             kernel=1**2 * Matern(length_scale=[1, 1, 1, 1], nu=2.5),\n",
       "             n_restarts_optimizer=2, noise=0, normalize_y=True,\n",
       "             optimizer='fmin_l_bfgs_b', random_state=1761554415), GaussianProcessRegressor(alpha=1e-10, copy_X_train=True,\n",
       "             kernel=1**2 * Matern(length_scale=[1, 1, 1, 1], nu=2.5),\n",
       "             n_restarts_optimizer=2, noise=0, normalize_y=True,\n",
       "             optimizer='fmin_l_bfgs_b', random_state=1761554415), GaussianProcessRegressor(alpha=1e-10, copy_X_train=True,\n",
       "             kernel=1**2 * Matern(length_scale=[1, 1, 1, 1], nu=2.5),\n",
       "             n_restarts_optimizer=2, noise=0, normalize_y=True,\n",
       "             optimizer='fmin_l_bfgs_b', random_state=1761554415), GaussianProcessRegressor(alpha=1e-10, copy_X_train=True,\n",
       "             kernel=1**2 * Matern(length_scale=[1, 1, 1, 1], nu=2.5),\n",
       "             n_restarts_optimizer=2, noise=0, normalize_y=True,\n",
       "             optimizer='fmin_l_bfgs_b', random_state=1761554415), GaussianProcessRegressor(alpha=1e-10, copy_X_train=True,\n",
       "             kernel=1**2 * Matern(length_scale=[1, 1, 1, 1], nu=2.5),\n",
       "             n_restarts_optimizer=2, noise=0, normalize_y=True,\n",
       "             optimizer='fmin_l_bfgs_b', random_state=1761554415), GaussianProcessRegressor(alpha=1e-10, copy_X_train=True,\n",
       "             kernel=1**2 * Matern(length_scale=[1, 1, 1, 1], nu=2.5),\n",
       "             n_restarts_optimizer=2, noise=0, normalize_y=True,\n",
       "             optimizer='fmin_l_bfgs_b', random_state=1761554415), GaussianProcessRegressor(alpha=1e-10, copy_X_train=True,\n",
       "             kernel=1**2 * Matern(length_scale=[1, 1, 1, 1], nu=2.5),\n",
       "             n_restarts_optimizer=2, noise=0, normalize_y=True,\n",
       "             optimizer='fmin_l_bfgs_b', random_state=1761554415), GaussianProcessRegressor(alpha=1e-10, copy_X_train=True,\n",
       "             kernel=1**2 * Matern(length_scale=[1, 1, 1, 1], nu=2.5),\n",
       "             n_restarts_optimizer=2, noise=0, normalize_y=True,\n",
       "             optimizer='fmin_l_bfgs_b', random_state=1761554415), GaussianProcessRegressor(alpha=1e-10, copy_X_train=True,\n",
       "             kernel=1**2 * Matern(length_scale=[1, 1, 1, 1], nu=2.5),\n",
       "             n_restarts_optimizer=2, noise=0, normalize_y=True,\n",
       "             optimizer='fmin_l_bfgs_b', random_state=1761554415), GaussianProcessRegressor(alpha=1e-10, copy_X_train=True,\n",
       "             kernel=1**2 * Matern(length_scale=[1, 1, 1, 1], nu=2.5),\n",
       "             n_restarts_optimizer=2, noise=0, normalize_y=True,\n",
       "             optimizer='fmin_l_bfgs_b', random_state=1761554415), GaussianProcessRegressor(alpha=1e-10, copy_X_train=True,\n",
       "             kernel=1**2 * Matern(length_scale=[1, 1, 1, 1], nu=2.5),\n",
       "             n_restarts_optimizer=2, noise=0, normalize_y=True,\n",
       "             optimizer='fmin_l_bfgs_b', random_state=1761554415), GaussianProcessRegressor(alpha=1e-10, copy_X_train=True,\n",
       "             kernel=1**2 * Matern(length_scale=[1, 1, 1, 1], nu=2.5),\n",
       "             n_restarts_optimizer=2, noise=0, normalize_y=True,\n",
       "             optimizer='fmin_l_bfgs_b', random_state=1761554415), GaussianProcessRegressor(alpha=1e-10, copy_X_train=True,\n",
       "             kernel=1**2 * Matern(length_scale=[1, 1, 1, 1], nu=2.5),\n",
       "             n_restarts_optimizer=2, noise=0, normalize_y=True,\n",
       "             optimizer='fmin_l_bfgs_b', random_state=1761554415), GaussianProcessRegressor(alpha=1e-10, copy_X_train=True,\n",
       "             kernel=1**2 * Matern(length_scale=[1, 1, 1, 1], nu=2.5),\n",
       "             n_restarts_optimizer=2, noise=0, normalize_y=True,\n",
       "             optimizer='fmin_l_bfgs_b', random_state=1761554415), GaussianProcessRegressor(alpha=1e-10, copy_X_train=True,\n",
       "             kernel=1**2 * Matern(length_scale=[1, 1, 1, 1], nu=2.5),\n",
       "             n_restarts_optimizer=2, noise=0, normalize_y=True,\n",
       "             optimizer='fmin_l_bfgs_b', random_state=1761554415), GaussianProcessRegressor(alpha=1e-10, copy_X_train=True,\n",
       "             kernel=1**2 * Matern(length_scale=[1, 1, 1, 1], nu=2.5),\n",
       "             n_restarts_optimizer=2, noise=0, normalize_y=True,\n",
       "             optimizer='fmin_l_bfgs_b', random_state=1761554415), GaussianProcessRegressor(alpha=1e-10, copy_X_train=True,\n",
       "             kernel=1**2 * Matern(length_scale=[1, 1, 1, 1], nu=2.5),\n",
       "             n_restarts_optimizer=2, noise=0, normalize_y=True,\n",
       "             optimizer='fmin_l_bfgs_b', random_state=1761554415), GaussianProcessRegressor(alpha=1e-10, copy_X_train=True,\n",
       "             kernel=1**2 * Matern(length_scale=[1, 1, 1, 1], nu=2.5),\n",
       "             n_restarts_optimizer=2, noise=0, normalize_y=True,\n",
       "             optimizer='fmin_l_bfgs_b', random_state=1761554415), GaussianProcessRegressor(alpha=1e-10, copy_X_train=True,\n",
       "             kernel=1**2 * Matern(length_scale=[1, 1, 1, 1], nu=2.5),\n",
       "             n_restarts_optimizer=2, noise=0, normalize_y=True,\n",
       "             optimizer='fmin_l_bfgs_b', random_state=1761554415), GaussianProcessRegressor(alpha=1e-10, copy_X_train=True,\n",
       "             kernel=1**2 * Matern(length_scale=[1, 1, 1, 1], nu=2.5),\n",
       "             n_restarts_optimizer=2, noise=0, normalize_y=True,\n",
       "             optimizer='fmin_l_bfgs_b', random_state=1761554415), GaussianProcessRegressor(alpha=1e-10, copy_X_train=True,\n",
       "             kernel=1**2 * Matern(length_scale=[1, 1, 1, 1], nu=2.5),\n",
       "             n_restarts_optimizer=2, noise=0, normalize_y=True,\n",
       "             optimizer='fmin_l_bfgs_b', random_state=1761554415), GaussianProcessRegressor(alpha=1e-10, copy_X_train=True,\n",
       "             kernel=1**2 * Matern(length_scale=[1, 1, 1, 1], nu=2.5),\n",
       "             n_restarts_optimizer=2, noise=0, normalize_y=True,\n",
       "             optimizer='fmin_l_bfgs_b', random_state=1761554415), GaussianProcessRegressor(alpha=1e-10, copy_X_train=True,\n",
       "             kernel=1**2 * Matern(length_scale=[1, 1, 1, 1], nu=2.5),\n",
       "             n_restarts_optimizer=2, noise=0, normalize_y=True,\n",
       "             optimizer='fmin_l_bfgs_b', random_state=1761554415), GaussianProcessRegressor(alpha=1e-10, copy_X_train=True,\n",
       "             kernel=1**2 * Matern(length_scale=[1, 1, 1, 1], nu=2.5),\n",
       "             n_restarts_optimizer=2, noise=0, normalize_y=True,\n",
       "             optimizer='fmin_l_bfgs_b', random_state=1761554415), GaussianProcessRegressor(alpha=1e-10, copy_X_train=True,\n",
       "             kernel=1**2 * Matern(length_scale=[1, 1, 1, 1], nu=2.5),\n",
       "             n_restarts_optimizer=2, noise=0, normalize_y=True,\n",
       "             optimizer='fmin_l_bfgs_b', random_state=1761554415), GaussianProcessRegressor(alpha=1e-10, copy_X_train=True,\n",
       "             kernel=1**2 * Matern(length_scale=[1, 1, 1, 1], nu=2.5),\n",
       "             n_restarts_optimizer=2, noise=0, normalize_y=True,\n",
       "             optimizer='fmin_l_bfgs_b', random_state=1761554415), GaussianProcessRegressor(alpha=1e-10, copy_X_train=True,\n",
       "             kernel=1**2 * Matern(length_scale=[1, 1, 1, 1], nu=2.5),\n",
       "             n_restarts_optimizer=2, noise=0, normalize_y=True,\n",
       "             optimizer='fmin_l_bfgs_b', random_state=1761554415), GaussianProcessRegressor(alpha=1e-10, copy_X_train=True,\n",
       "             kernel=1**2 * Matern(length_scale=[1, 1, 1, 1], nu=2.5),\n",
       "             n_restarts_optimizer=2, noise=0, normalize_y=True,\n",
       "             optimizer='fmin_l_bfgs_b', random_state=1761554415), GaussianProcessRegressor(alpha=1e-10, copy_X_train=True,\n",
       "             kernel=1**2 * Matern(length_scale=[1, 1, 1, 1], nu=2.5),\n",
       "             n_restarts_optimizer=2, noise=0, normalize_y=True,\n",
       "             optimizer='fmin_l_bfgs_b', random_state=1761554415), GaussianProcessRegressor(alpha=1e-10, copy_X_train=True,\n",
       "             kernel=1**2 * Matern(length_scale=[1, 1, 1, 1], nu=2.5),\n",
       "             n_restarts_optimizer=2, noise=0, normalize_y=True,\n",
       "             optimizer='fmin_l_bfgs_b', random_state=1761554415), GaussianProcessRegressor(alpha=1e-10, copy_X_train=True,\n",
       "             kernel=1**2 * Matern(length_scale=[1, 1, 1, 1], nu=2.5),\n",
       "             n_restarts_optimizer=2, noise=0, normalize_y=True,\n",
       "             optimizer='fmin_l_bfgs_b', random_state=1761554415), GaussianProcessRegressor(alpha=1e-10, copy_X_train=True,\n",
       "             kernel=1**2 * Matern(length_scale=[1, 1, 1, 1], nu=2.5),\n",
       "             n_restarts_optimizer=2, noise=0, normalize_y=True,\n",
       "             optimizer='fmin_l_bfgs_b', random_state=1761554415), GaussianProcessRegressor(alpha=1e-10, copy_X_train=True,\n",
       "             kernel=1**2 * Matern(length_scale=[1, 1, 1, 1], nu=2.5),\n",
       "             n_restarts_optimizer=2, noise=0, normalize_y=True,\n",
       "             optimizer='fmin_l_bfgs_b', random_state=1761554415), GaussianProcessRegressor(alpha=1e-10, copy_X_train=True,\n",
       "             kernel=1**2 * Matern(length_scale=[1, 1, 1, 1], nu=2.5),\n",
       "             n_restarts_optimizer=2, noise=0, normalize_y=True,\n",
       "             optimizer='fmin_l_bfgs_b', random_state=1761554415), GaussianProcessRegressor(alpha=1e-10, copy_X_train=True,\n",
       "             kernel=1**2 * Matern(length_scale=[1, 1, 1, 1], nu=2.5),\n",
       "             n_restarts_optimizer=2, noise=0, normalize_y=True,\n",
       "             optimizer='fmin_l_bfgs_b', random_state=1761554415), GaussianProcessRegressor(alpha=1e-10, copy_X_train=True,\n",
       "             kernel=1**2 * Matern(length_scale=[1, 1, 1, 1], nu=2.5),\n",
       "             n_restarts_optimizer=2, noise=0, normalize_y=True,\n",
       "             optimizer='fmin_l_bfgs_b', random_state=1761554415), GaussianProcessRegressor(alpha=1e-10, copy_X_train=True,\n",
       "             kernel=1**2 * Matern(length_scale=[1, 1, 1, 1], nu=2.5),\n",
       "             n_restarts_optimizer=2, noise=0, normalize_y=True,\n",
       "             optimizer='fmin_l_bfgs_b', random_state=1761554415), GaussianProcessRegressor(alpha=1e-10, copy_X_train=True,\n",
       "             kernel=1**2 * Matern(length_scale=[1, 1, 1, 1], nu=2.5),\n",
       "             n_restarts_optimizer=2, noise=0, normalize_y=True,\n",
       "             optimizer='fmin_l_bfgs_b', random_state=1761554415), GaussianProcessRegressor(alpha=1e-10, copy_X_train=True,\n",
       "             kernel=1**2 * Matern(length_scale=[1, 1, 1, 1], nu=2.5),\n",
       "             n_restarts_optimizer=2, noise=0, normalize_y=True,\n",
       "             optimizer='fmin_l_bfgs_b', random_state=1761554415), GaussianProcessRegressor(alpha=1e-10, copy_X_train=True,\n",
       "             kernel=1**2 * Matern(length_scale=[1, 1, 1, 1], nu=2.5),\n",
       "             n_restarts_optimizer=2, noise=0, normalize_y=True,\n",
       "             optimizer='fmin_l_bfgs_b', random_state=1761554415), GaussianProcessRegressor(alpha=1e-10, copy_X_train=True,\n",
       "             kernel=1**2 * Matern(length_scale=[1, 1, 1, 1], nu=2.5),\n",
       "             n_restarts_optimizer=2, noise=0, normalize_y=True,\n",
       "             optimizer='fmin_l_bfgs_b', random_state=1761554415), GaussianProcessRegressor(alpha=1e-10, copy_X_train=True,\n",
       "             kernel=1**2 * Matern(length_scale=[1, 1, 1, 1], nu=2.5),\n",
       "             n_restarts_optimizer=2, noise=0, normalize_y=True,\n",
       "             optimizer='fmin_l_bfgs_b', random_state=1761554415), GaussianProcessRegressor(alpha=1e-10, copy_X_train=True,\n",
       "             kernel=1**2 * Matern(length_scale=[1, 1, 1, 1], nu=2.5),\n",
       "             n_restarts_optimizer=2, noise=0, normalize_y=True,\n",
       "             optimizer='fmin_l_bfgs_b', random_state=1761554415), GaussianProcessRegressor(alpha=1e-10, copy_X_train=True,\n",
       "             kernel=1**2 * Matern(length_scale=[1, 1, 1, 1], nu=2.5),\n",
       "             n_restarts_optimizer=2, noise=0, normalize_y=True,\n",
       "             optimizer='fmin_l_bfgs_b', random_state=1761554415), GaussianProcessRegressor(alpha=1e-10, copy_X_train=True,\n",
       "             kernel=1**2 * Matern(length_scale=[1, 1, 1, 1], nu=2.5),\n",
       "             n_restarts_optimizer=2, noise=0, normalize_y=True,\n",
       "             optimizer='fmin_l_bfgs_b', random_state=1761554415), GaussianProcessRegressor(alpha=1e-10, copy_X_train=True,\n",
       "             kernel=1**2 * Matern(length_scale=[1, 1, 1, 1], nu=2.5),\n",
       "             n_restarts_optimizer=2, noise=0, normalize_y=True,\n",
       "             optimizer='fmin_l_bfgs_b', random_state=1761554415), GaussianProcessRegressor(alpha=1e-10, copy_X_train=True,\n",
       "             kernel=1**2 * Matern(length_scale=[1, 1, 1, 1], nu=2.5),\n",
       "             n_restarts_optimizer=2, noise=0, normalize_y=True,\n",
       "             optimizer='fmin_l_bfgs_b', random_state=1761554415), GaussianProcessRegressor(alpha=1e-10, copy_X_train=True,\n",
       "             kernel=1**2 * Matern(length_scale=[1, 1, 1, 1], nu=2.5),\n",
       "             n_restarts_optimizer=2, noise=0, normalize_y=True,\n",
       "             optimizer='fmin_l_bfgs_b', random_state=1761554415), GaussianProcessRegressor(alpha=1e-10, copy_X_train=True,\n",
       "             kernel=1**2 * Matern(length_scale=[1, 1, 1, 1], nu=2.5),\n",
       "             n_restarts_optimizer=2, noise=0, normalize_y=True,\n",
       "             optimizer='fmin_l_bfgs_b', random_state=1761554415), GaussianProcessRegressor(alpha=1e-10, copy_X_train=True,\n",
       "             kernel=1**2 * Matern(length_scale=[1, 1, 1, 1], nu=2.5),\n",
       "             n_restarts_optimizer=2, noise=0, normalize_y=True,\n",
       "             optimizer='fmin_l_bfgs_b', random_state=1761554415), GaussianProcessRegressor(alpha=1e-10, copy_X_train=True,\n",
       "             kernel=1**2 * Matern(length_scale=[1, 1, 1, 1], nu=2.5),\n",
       "             n_restarts_optimizer=2, noise=0, normalize_y=True,\n",
       "             optimizer='fmin_l_bfgs_b', random_state=1761554415), GaussianProcessRegressor(alpha=1e-10, copy_X_train=True,\n",
       "             kernel=1**2 * Matern(length_scale=[1, 1, 1, 1], nu=2.5),\n",
       "             n_restarts_optimizer=2, noise=0, normalize_y=True,\n",
       "             optimizer='fmin_l_bfgs_b', random_state=1761554415), GaussianProcessRegressor(alpha=1e-10, copy_X_train=True,\n",
       "             kernel=1**2 * Matern(length_scale=[1, 1, 1, 1], nu=2.5),\n",
       "             n_restarts_optimizer=2, noise=0, normalize_y=True,\n",
       "             optimizer='fmin_l_bfgs_b', random_state=1761554415), GaussianProcessRegressor(alpha=1e-10, copy_X_train=True,\n",
       "             kernel=1**2 * Matern(length_scale=[1, 1, 1, 1], nu=2.5),\n",
       "             n_restarts_optimizer=2, noise=0, normalize_y=True,\n",
       "             optimizer='fmin_l_bfgs_b', random_state=1761554415)]\n",
       " random_state: <mtrand.RandomState object at 0x110db9b40>\n",
       "        space: Space([Integer(low=-10, high=10),\n",
       "       Integer(low=-10, high=10),\n",
       "       Integer(low=-10, high=10),\n",
       "       Integer(low=-10, high=10)])\n",
       "        specs: {'args': {'n_jobs': 1, 'kappa': 1.96, 'xi': 0.01, 'n_restarts_optimizer': 5, 'n_points': 10000, 'callback': None, 'verbose': False, 'random_state': <mtrand.RandomState object at 0x110db9b40>, 'y0': None, 'x0': None, 'acq_optimizer': 'auto', 'acq_func': 'EI', 'n_random_starts': 1, 'n_calls': 100, 'base_estimator': GaussianProcessRegressor(alpha=1e-10, copy_X_train=True,\n",
       "             kernel=1**2 * Matern(length_scale=[1, 1, 1, 1], nu=2.5),\n",
       "             n_restarts_optimizer=2, noise=0, normalize_y=True,\n",
       "             optimizer='fmin_l_bfgs_b', random_state=1761554415), 'dimensions': Space([Integer(low=-10, high=10),\n",
       "       Integer(low=-10, high=10),\n",
       "       Integer(low=-10, high=10),\n",
       "       Integer(low=-10, high=10)]), 'func': <function f at 0x1246eaae8>}, 'function': 'base_minimize'}\n",
       "            x: [5, 2, -3, 4]\n",
       "      x_iters: [[-4, -8, -7, -8], [10, 10, 10, 10], [-7, 10, 10, 9], [-4, -8, -7, -8], [-4, -8, -7, -8], [-4, -8, -6, -8], [10, 10, 7, 2], [10, 10, 7, 3], [10, 10, 7, 5], [10, 10, 7, 4], [10, 10, 7, 4], [10, 10, 6, 4], [10, 10, 5, 5], [8, 10, 5, 5], [8, 10, 4, 6], [7, 9, 4, 6], [5, 9, 4, 6], [5, 9, 4, 4], [5, 8, 4, 4], [5, 7, 4, 4], [5, 5, 4, 4], [5, 3, 4, 4], [6, 2, 4, 4], [5, 2, 4, 5], [5, 2, 4, 4], [5, 2, 3, 4], [5, 0, 3, 3], [5, 1, 3, 5], [3, 2, 3, 4], [5, 2, 2, 4], [6, 2, 2, 4], [5, 2, 1, 4], [5, 2, 1, 6], [5, 1, 1, 4], [5, 2, 0, 4], [6, 2, -1, 5], [4, 2, -1, 5], [5, 2, -1, 5], [5, 3, -1, 5], [5, 2, -2, 4], [5, 2, -3, 5], [5, 2, -3, 4], [6, 1, -3, 4], [6, 2, -3, 4], [5, 3, -5, 5], [5, -2, -6, 7], [5, 2, -3, 4], [5, 3, -3, 4], [10, 6, -10, 4], [3, 2, -4, 5], [5, 2, -3, 4], [4, 5, -5, 8], [5, 2, -3, 4], [10, -10, -2, 10], [5, 2, -3, 4], [6, 2, -3, 4], [4, 3, -2, 4], [5, 2, -3, 4], [-5, 2, -10, 9], [5, 2, -3, 4], [5, 2, -3, 4], [5, 2, -3, 4], [8, 2, -5, 6], [4, 2, -3, 1], [5, 2, -3, 4], [5, 2, -3, 4], [5, 2, -3, 4], [5, 2, -3, 4], [5, 2, -4, 4], [5, 5, -4, 1], [10, -10, 10, -10], [5, 2, -4, 4], [6, 3, -5, 6], [5, 2, -2, 4], [5, 2, -3, 4], [5, 2, -3, 3], [4, 2, -3, 4], [4, 2, -3, 3], [-2, 10, -10, -10], [4, 0, -6, 2], [-4, -10, -2, 3], [5, 2, -3, 4], [5, 2, -3, 4], [5, 2, -3, 4], [5, 2, -3, 3], [5, 2, -3, 4], [5, 2, -3, 4], [7, 3, -5, 2], [5, 2, -3, 4], [5, 2, -3, 4], [5, 2, -3, 4], [5, 2, -3, 4], [5, 2, -3, 4], [5, 2, -3, 4], [5, 2, -2, 4], [5, 2, -3, 4], [5, 2, -3, 4], [3, -1, -2, 4], [2, 0, -3, 10], [5, 2, -3, 4]]"
      ]
     },
     "execution_count": 162,
     "metadata": {},
     "output_type": "execute_result"
    }
   ],
   "source": [
    "res"
   ]
  },
  {
   "cell_type": "code",
   "execution_count": 163,
   "metadata": {},
   "outputs": [
    {
     "data": {
      "image/png": "[encoded data removed]",
      "text/plain": [
       "<matplotlib.figure.Figure at 0x1297afb70>"
      ]
     },
     "metadata": {},
     "output_type": "display_data"
    }
   ],
   "source": [
    "from skopt.plots import plot_convergence\n",
    "plot_convergence(res)\n",
    "plt.show()"
   ]
  },
  {
   "cell_type": "code",
   "execution_count": null,
   "metadata": {
    "collapsed": true
   },
   "outputs": [],
   "source": [
    "import GPy\n",
    "import GPyOpt\n",
    "\n",
    "from GPyOpt.methods import BayesianOptimization"
   ]
  },
  {
   "cell_type": "code",
   "execution_count": 244,
   "metadata": {},
   "outputs": [],
   "source": [
    "bds = [{'name': 'x0', 'type': 'continuous', 'domain': (-10,10)},\n",
    "        {'name': 'x1', 'type': 'continuous', 'domain': (-10,10)},\n",
    "        {'name': 'x2', 'type': 'continuous', 'domain': (-10,10)},\n",
    "        {'name': 'x3', 'type': 'continuous', 'domain': (-10,10)}]\n",
    "\n",
    "\n",
    "optimizer = BayesianOptimization(f=f, \n",
    "                                 domain=bds,\n",
    "                                 model_type='GP',\n",
    "                                 acquisition_type ='EI',\n",
    "                                 acquisition_jitter = 0,\n",
    "                                 exact_feval=True, \n",
    "                                 maximize=True)\n",
    "\n",
    "optimizer.run_optimization(max_iter=50)\n",
    "optimizer.plot_acquisition()"
   ]
  },
  {
   "cell_type": "code",
   "execution_count": 224,
   "metadata": {},
   "outputs": [],
   "source": [
    "def f1(x):\n",
    "    x=x[0]\n",
    "    return (5-x)**2"
   ]
  },
  {
   "cell_type": "code",
   "execution_count": 237,
   "metadata": {},
   "outputs": [
    {
     "data": {
      "image/png": "[encoded data removed]",
      "text/plain": [
       "<matplotlib.figure.Figure at 0x12b8816d8>"
      ]
     },
     "metadata": {},
     "output_type": "display_data"
    }
   ],
   "source": [
    "bds = [{'name': 'x0', 'type': 'continuous', 'domain': (-10,10)}]\n",
    "\n",
    "\n",
    "optimizer = BayesianOptimization(f=f1, \n",
    "                                 domain=bds,\n",
    "                                 model_type='GP',\n",
    "                                 acquisition_type ='EI',\n",
    "                                 acquisition_jitter = 0,\n",
    "                                 exact_feval=True)\n",
    "\n",
    "optimizer.run_optimization(max_iter=10)\n",
    "optimizer.plot_acquisition()"
   ]
  },
  {
   "cell_type": "code",
   "execution_count": 238,
   "metadata": {},
   "outputs": [
    {
     "data": {
      "text/plain": [
       "array([[-9.91992333],\n",
       "       [-9.39242777],\n",
       "       [-7.642791  ],\n",
       "       [-0.19267986],\n",
       "       [ 2.34210762],\n",
       "       [10.        ],\n",
       "       [ 4.78195394],\n",
       "       [ 5.00109076],\n",
       "       [ 4.99104668],\n",
       "       [ 4.98346703],\n",
       "       [ 4.97975572],\n",
       "       [ 4.98264715],\n",
       "       [ 4.98159951],\n",
       "       [ 4.98126284],\n",
       "       [ 4.98106099]])"
      ]
     },
     "execution_count": 238,
     "metadata": {},
     "output_type": "execute_result"
    }
   ],
   "source": [
    "optimizer.X"
   ]
  },
  {
   "cell_type": "code",
   "execution_count": 239,
   "metadata": {},
   "outputs": [
    {
     "data": {
      "text/plain": [
       "array([[2.22604112e+02],\n",
       "       [2.07141977e+02],\n",
       "       [1.59840164e+02],\n",
       "       [2.69639241e+01],\n",
       "       [7.06439193e+00],\n",
       "       [2.50000000e+01],\n",
       "       [4.75440845e-02],\n",
       "       [1.18975383e-06],\n",
       "       [8.01618869e-05],\n",
       "       [2.73339187e-04],\n",
       "       [4.09830731e-04],\n",
       "       [3.01121484e-04],\n",
       "       [3.38577875e-04],\n",
       "       [3.51081019e-04],\n",
       "       [3.58686208e-04]])"
      ]
     },
     "execution_count": 239,
     "metadata": {},
     "output_type": "execute_result"
    }
   ],
   "source": [
    "optimizer.Y"
   ]
  },
  {
   "cell_type": "code",
   "execution_count": 242,
   "metadata": {},
   "outputs": [
    {
     "data": {
      "text/plain": [
       "[<matplotlib.lines.Line2D at 0x12b863940>]"
      ]
     },
     "execution_count": 242,
     "metadata": {},
     "output_type": "execute_result"
    },
    {
     "data": {
      "image/png": "[encoded data removed]",
      "text/plain": [
       "<matplotlib.figure.Figure at 0x12c21c860>"
      ]
     },
     "metadata": {},
     "output_type": "display_data"
    }
   ],
   "source": [
    "plt.plot(optimizer.Y_best)"
   ]
  },
  {
   "cell_type": "code",
   "execution_count": 245,
   "metadata": {},
   "outputs": [
    {
     "data": {
      "text/plain": [
       "array([6.30834835e+01, 6.30834835e+01, 6.30834835e+01, 6.30834835e+01,\n",
       "       1.93876345e+01, 1.93876345e+01, 1.93876345e+01, 9.19741465e+00,\n",
       "       9.19741465e+00, 9.19741465e+00, 9.19741465e+00, 1.12074190e+00,\n",
       "       1.12074190e+00, 1.12074190e+00, 1.12074190e+00, 1.12074190e+00,\n",
       "       1.12074190e+00, 2.55873893e-01, 2.55873893e-01, 2.55873893e-01,\n",
       "       1.43482720e-02, 1.43482720e-02, 1.43482720e-02, 1.43482720e-02,\n",
       "       1.43482720e-02, 1.43482720e-02, 1.43482720e-02, 1.43482720e-02,\n",
       "       1.43482720e-02, 1.43482720e-02, 1.43482720e-02, 1.43482720e-02,\n",
       "       1.43482720e-02, 1.43482720e-02, 1.43482720e-02, 1.43482720e-02,\n",
       "       1.43482720e-02, 1.43482720e-02, 1.43482720e-02, 1.43482720e-02,\n",
       "       1.43482720e-02, 1.43482720e-02, 1.43482720e-02, 1.43482720e-02,\n",
       "       1.43482720e-02, 1.43482720e-02, 1.43482720e-02, 1.43482720e-02,\n",
       "       1.43482720e-02, 1.43482720e-02, 1.43482720e-02, 1.43482720e-02,\n",
       "       1.43482720e-02, 1.43482720e-02, 1.43482720e-02])"
      ]
     },
     "execution_count": 245,
     "metadata": {},
     "output_type": "execute_result"
    }
   ],
   "source": [
    "optimizer.Y_best"
   ]
  },
  {
   "cell_type": "code",
   "execution_count": 247,
   "metadata": {
    "collapsed": true
   },
   "outputs": [],
   "source": [
    "l={}"
   ]
  },
  {
   "cell_type": "code",
   "execution_count": 249,
   "metadata": {},
   "outputs": [],
   "source": [
    "l['a']=1"
   ]
  },
  {
   "cell_type": "code",
   "execution_count": 258,
   "metadata": {},
   "outputs": [
    {
     "data": {
      "text/plain": [
       "True"
      ]
     },
     "execution_count": 258,
     "metadata": {},
     "output_type": "execute_result"
    }
   ],
   "source": [
    "'a' in l."
   ]
  },
  {
   "cell_type": "code",
   "execution_count": 246,
   "metadata": {},
   "outputs": [
    {
     "data": {
      "text/plain": [
       "3"
      ]
     },
     "execution_count": 246,
     "metadata": {},
     "output_type": "execute_result"
    }
   ],
   "source": [
    "len('abc')"
   ]
  },
  {
   "cell_type": "code",
   "execution_count": 261,
   "metadata": {
    "collapsed": true
   },
   "outputs": [],
   "source": [
    "def get_freq(string):\n",
    "    letterfrequency = {}\n",
    "    for letter in string:\n",
    "        if letter in letterfrequency:\n",
    "            letterfrequency[letter] = letterfrequency[letter]+1\n",
    "        else:\n",
    "            letterfrequency[letter] = 1\n",
    "    return letterfrequency"
   ]
  },
  {
   "cell_type": "code",
   "execution_count": 341,
   "metadata": {},
   "outputs": [],
   "source": [
    "string = 'hallo du dingsdabums, dies ist ein test für huffman coding. du wirst jetzt codiert'"
   ]
  },
  {
   "cell_type": "code",
   "execution_count": 342,
   "metadata": {
    "collapsed": true
   },
   "outputs": [],
   "source": [
    "letterfrequency = get_freq(string)"
   ]
  },
  {
   "cell_type": "code",
   "execution_count": 327,
   "metadata": {
    "collapsed": true
   },
   "outputs": [],
   "source": [
    "import operator\n",
    "import queue"
   ]
  },
  {
   "cell_type": "code",
   "execution_count": null,
   "metadata": {
    "collapsed": true
   },
   "outputs": [],
   "source": [
    "class HuffmanTree():\n",
    "    def __init__(self,probability,value=None,left=None,right=None):\n",
    "        self.left = left\n",
    "        self.right = right\n",
    "        self.probability = probability\n",
    "        self.value = value"
   ]
  },
  {
   "cell_type": "code",
   "execution_count": 431,
   "metadata": {},
   "outputs": [],
   "source": [
    "node_list = []\n",
    "for letter in letterfrequency:\n",
    "    node_list.append(HuffmanTree(letterfrequency[letter],value=letter))"
   ]
  },
  {
   "cell_type": "code",
   "execution_count": 432,
   "metadata": {},
   "outputs": [],
   "source": [
    "while len(node_list)>1:\n",
    "    node_list = sorted(node_list, key=operator.attrgetter('probability'))\n",
    "    left = node_list[0]\n",
    "    node_list.pop(0)\n",
    "    right = node_list[0]  \n",
    "    node_list.pop(0)\n",
    "    node_list.append(HuffmanTree(probability=left.probability+right.probability,left=left,right=right))"
   ]
  },
  {
   "cell_type": "code",
   "execution_count": 434,
   "metadata": {},
   "outputs": [],
   "source": [
    "tree = node_list[0]"
   ]
  },
  {
   "cell_type": "code",
   "execution_count": 452,
   "metadata": {},
   "outputs": [
    {
     "data": {
      "text/plain": [
       "'h'"
      ]
     },
     "execution_count": 452,
     "metadata": {},
     "output_type": "execute_result"
    }
   ],
   "source": [
    "tree.right.left.right.right.right.right.value"
   ]
  },
  {
   "cell_type": "code",
   "execution_count": 302,
   "metadata": {},
   "outputs": [],
   "source": [
    "a = HuffmanTree(0.35,{'a':.2},{'b':.15})"
   ]
  },
  {
   "cell_type": "code",
   "execution_count": 305,
   "metadata": {},
   "outputs": [],
   "source": [
    "b=HuffmanTree(0.6,{'c':.25},{a:.35})"
   ]
  },
  {
   "cell_type": "code",
   "execution_count": 312,
   "metadata": {},
   "outputs": [
    {
     "data": {
      "text/plain": [
       "{<__main__.HuffmanTree at 0x12c650eb8>: 0.35}"
      ]
     },
     "execution_count": 312,
     "metadata": {},
     "output_type": "execute_result"
    }
   ],
   "source": [
    "b.right"
   ]
  },
  {
   "cell_type": "code",
   "execution_count": null,
   "metadata": {
    "collapsed": true
   },
   "outputs": [],
   "source": []
  },
  {
   "cell_type": "code",
   "execution_count": null,
   "metadata": {
    "collapsed": true
   },
   "outputs": [],
   "source": [
    "def Huffman(string):\n",
    "    letterfrequency = get_freq(string)\n",
    "    "
   ]
  }
 ],
 "metadata": {
  "kernelspec": {
   "display_name": "Python 3",
   "language": "python",
   "name": "python3"
  },
  "language_info": {
   "codemirror_mode": {
    "name": "ipython",
    "version": 3
   },
   "file_extension": ".py",
   "mimetype": "text/x-python",
   "name": "python",
   "nbconvert_exporter": "python",
   "pygments_lexer": "ipython3",
   "version": "3.6.8"
  }
 },
 "nbformat": 4,
 "nbformat_minor": 2
}
